{
 "cells": [
  {
   "cell_type": "markdown",
   "id": "10e682d5-4503-4e9d-ac4f-e9a044262e7e",
   "metadata": {},
   "source": [
    "# EN ESTA NOTEBOOK SE IMPLEMENTARÁN LOS ALGORITMOS DE INTELIGENCIA ARTIFICIAL SUPERVISADOS Y SE EVALUARÁN LOS RESULTADOS PARA EL PROYECTO\n",
    "\n",
    "\n"
   ]
  },
  {
   "cell_type": "markdown",
   "id": "701d6ecd-d6bb-4d77-bf26-1b97709894c0",
   "metadata": {},
   "source": [
    "## ARBOLES DE DECISIÓN"
   ]
  },
  {
   "cell_type": "code",
   "execution_count": 45,
   "id": "2650444f-5b77-4e57-a00f-6aac82880d94",
   "metadata": {},
   "outputs": [],
   "source": [
    "#importanción de librerías a utilizar\n",
    "\n",
    "import numpy as np\n",
    "import pandas as pd\n",
    "import matplotlib.pyplot as plt\n",
    "import seaborn as sns\n",
    "from scipy import stats\n",
    "\n",
    "#ARBOL DE DECISIÓN\n",
    "from sklearn.tree import DecisionTreeClassifier   #usqar arbol de decision\n",
    "from sklearn.model_selection import train_test_split    #permite dividir dataset\n",
    "from sklearn.metrics import accuracy_score  \n",
    "from sklearn.preprocessing import StandardScaler #  librería para escalar las variables independientes\n"
   ]
  },
  {
   "cell_type": "code",
   "execution_count": 46,
   "id": "666fd695-75aa-450a-aa13-f5186a4b7b33",
   "metadata": {},
   "outputs": [
    {
     "data": {
      "text/html": [
       "<div>\n",
       "<style scoped>\n",
       "    .dataframe tbody tr th:only-of-type {\n",
       "        vertical-align: middle;\n",
       "    }\n",
       "\n",
       "    .dataframe tbody tr th {\n",
       "        vertical-align: top;\n",
       "    }\n",
       "\n",
       "    .dataframe thead th {\n",
       "        text-align: right;\n",
       "    }\n",
       "</style>\n",
       "<table border=\"1\" class=\"dataframe\">\n",
       "  <thead>\n",
       "    <tr style=\"text-align: right;\">\n",
       "      <th></th>\n",
       "      <th>id</th>\n",
       "      <th>region</th>\n",
       "      <th>tamanio_aglomerado</th>\n",
       "      <th>tipo_vivienda</th>\n",
       "      <th>obtiene_gas</th>\n",
       "      <th>obtiene_agua</th>\n",
       "      <th>baño</th>\n",
       "      <th>cant_componentes</th>\n",
       "      <th>tipo_hogar</th>\n",
       "      <th>ingresos</th>\n",
       "      <th>...</th>\n",
       "      <th>altura_cm</th>\n",
       "      <th>considera_su_alimentacion</th>\n",
       "      <th>promedio_fv_diario</th>\n",
       "      <th>consumo_5porc_fv</th>\n",
       "      <th>colesterol_alto</th>\n",
       "      <th>consumido_alcohol</th>\n",
       "      <th>consumo_regular_riesgo</th>\n",
       "      <th>dijeron_diabetes</th>\n",
       "      <th>familiares_directos_diabetes</th>\n",
       "      <th>familiares_no_directos_diabetes</th>\n",
       "    </tr>\n",
       "  </thead>\n",
       "  <tbody>\n",
       "    <tr>\n",
       "      <th>0</th>\n",
       "      <td>1128639</td>\n",
       "      <td>1</td>\n",
       "      <td>1</td>\n",
       "      <td>3</td>\n",
       "      <td>1</td>\n",
       "      <td>1</td>\n",
       "      <td>1</td>\n",
       "      <td>2</td>\n",
       "      <td>2</td>\n",
       "      <td>50000</td>\n",
       "      <td>...</td>\n",
       "      <td>181.0</td>\n",
       "      <td>2</td>\n",
       "      <td>4.00</td>\n",
       "      <td>2</td>\n",
       "      <td>2</td>\n",
       "      <td>1</td>\n",
       "      <td>2.0</td>\n",
       "      <td>2</td>\n",
       "      <td>2</td>\n",
       "      <td>2</td>\n",
       "    </tr>\n",
       "    <tr>\n",
       "      <th>1</th>\n",
       "      <td>1709939</td>\n",
       "      <td>1</td>\n",
       "      <td>1</td>\n",
       "      <td>1</td>\n",
       "      <td>1</td>\n",
       "      <td>1</td>\n",
       "      <td>1</td>\n",
       "      <td>3</td>\n",
       "      <td>4</td>\n",
       "      <td>40000</td>\n",
       "      <td>...</td>\n",
       "      <td>160.0</td>\n",
       "      <td>2</td>\n",
       "      <td>6.43</td>\n",
       "      <td>1</td>\n",
       "      <td>1</td>\n",
       "      <td>1</td>\n",
       "      <td>2.0</td>\n",
       "      <td>2</td>\n",
       "      <td>2</td>\n",
       "      <td>2</td>\n",
       "    </tr>\n",
       "    <tr>\n",
       "      <th>2</th>\n",
       "      <td>6874130</td>\n",
       "      <td>1</td>\n",
       "      <td>1</td>\n",
       "      <td>3</td>\n",
       "      <td>1</td>\n",
       "      <td>1</td>\n",
       "      <td>1</td>\n",
       "      <td>2</td>\n",
       "      <td>2</td>\n",
       "      <td>40000</td>\n",
       "      <td>...</td>\n",
       "      <td>160.0</td>\n",
       "      <td>2</td>\n",
       "      <td>2.86</td>\n",
       "      <td>2</td>\n",
       "      <td>2</td>\n",
       "      <td>1</td>\n",
       "      <td>2.0</td>\n",
       "      <td>2</td>\n",
       "      <td>2</td>\n",
       "      <td>2</td>\n",
       "    </tr>\n",
       "    <tr>\n",
       "      <th>3</th>\n",
       "      <td>10319375</td>\n",
       "      <td>1</td>\n",
       "      <td>1</td>\n",
       "      <td>3</td>\n",
       "      <td>4</td>\n",
       "      <td>1</td>\n",
       "      <td>1</td>\n",
       "      <td>1</td>\n",
       "      <td>1</td>\n",
       "      <td>80000</td>\n",
       "      <td>...</td>\n",
       "      <td>155.0</td>\n",
       "      <td>2</td>\n",
       "      <td>1.43</td>\n",
       "      <td>2</td>\n",
       "      <td>1</td>\n",
       "      <td>1</td>\n",
       "      <td>2.0</td>\n",
       "      <td>2</td>\n",
       "      <td>2</td>\n",
       "      <td>1</td>\n",
       "    </tr>\n",
       "    <tr>\n",
       "      <th>4</th>\n",
       "      <td>11140857</td>\n",
       "      <td>1</td>\n",
       "      <td>1</td>\n",
       "      <td>3</td>\n",
       "      <td>1</td>\n",
       "      <td>1</td>\n",
       "      <td>1</td>\n",
       "      <td>2</td>\n",
       "      <td>8</td>\n",
       "      <td>30000</td>\n",
       "      <td>...</td>\n",
       "      <td>178.0</td>\n",
       "      <td>2</td>\n",
       "      <td>1.43</td>\n",
       "      <td>2</td>\n",
       "      <td>2</td>\n",
       "      <td>1</td>\n",
       "      <td>2.0</td>\n",
       "      <td>2</td>\n",
       "      <td>2</td>\n",
       "      <td>99</td>\n",
       "    </tr>\n",
       "  </tbody>\n",
       "</table>\n",
       "<p>5 rows × 53 columns</p>\n",
       "</div>"
      ],
      "text/plain": [
       "         id  region  tamanio_aglomerado  tipo_vivienda  obtiene_gas  \\\n",
       "0   1128639       1                   1              3            1   \n",
       "1   1709939       1                   1              1            1   \n",
       "2   6874130       1                   1              3            1   \n",
       "3  10319375       1                   1              3            4   \n",
       "4  11140857       1                   1              3            1   \n",
       "\n",
       "   obtiene_agua  baño  cant_componentes  tipo_hogar  ingresos  ...  altura_cm  \\\n",
       "0             1     1                 2           2     50000  ...      181.0   \n",
       "1             1     1                 3           4     40000  ...      160.0   \n",
       "2             1     1                 2           2     40000  ...      160.0   \n",
       "3             1     1                 1           1     80000  ...      155.0   \n",
       "4             1     1                 2           8     30000  ...      178.0   \n",
       "\n",
       "   considera_su_alimentacion  promedio_fv_diario  consumo_5porc_fv  \\\n",
       "0                          2                4.00                 2   \n",
       "1                          2                6.43                 1   \n",
       "2                          2                2.86                 2   \n",
       "3                          2                1.43                 2   \n",
       "4                          2                1.43                 2   \n",
       "\n",
       "   colesterol_alto  consumido_alcohol  consumo_regular_riesgo  \\\n",
       "0                2                  1                     2.0   \n",
       "1                1                  1                     2.0   \n",
       "2                2                  1                     2.0   \n",
       "3                1                  1                     2.0   \n",
       "4                2                  1                     2.0   \n",
       "\n",
       "   dijeron_diabetes  familiares_directos_diabetes  \\\n",
       "0                 2                             2   \n",
       "1                 2                             2   \n",
       "2                 2                             2   \n",
       "3                 2                             2   \n",
       "4                 2                             2   \n",
       "\n",
       "   familiares_no_directos_diabetes  \n",
       "0                                2  \n",
       "1                                2  \n",
       "2                                2  \n",
       "3                                1  \n",
       "4                               99  \n",
       "\n",
       "[5 rows x 53 columns]"
      ]
     },
     "execution_count": 46,
     "metadata": {},
     "output_type": "execute_result"
    }
   ],
   "source": [
    "# IMPORTACIÓN DEL DATASET REDUCIDO LUEGO DEL PROCESAMIENTO DE COLUMNAS\n",
    "\n",
    "df = pd.read_csv('friesgo_2018_reduc.csv',  sep=',', encoding='utf-8')\n",
    "\n",
    "df.head(5)"
   ]
  },
  {
   "cell_type": "code",
   "execution_count": 47,
   "id": "120edbb6-7c1d-4057-b73a-b9f374a9d327",
   "metadata": {},
   "outputs": [
    {
     "data": {
      "text/plain": [
       "Index(['id', 'region', 'tamanio_aglomerado', 'tipo_vivienda', 'obtiene_gas',\n",
       "       'obtiene_agua', 'baño', 'cant_componentes', 'tipo_hogar', 'ingresos',\n",
       "       'asignaciones', 'sexo', 'edad', 'situacion_conyugal',\n",
       "       'nivel_instruccion', 'cobertura_salud_nueva', 'ansiedad_depresion',\n",
       "       'af_intensa_veces_por_semana', 'af_intensa_min_totales_por_semana',\n",
       "       'af_intensa_min_totales_por_semana_nsnc',\n",
       "       'af_moderada_veces_por_semana', 'af_moderada_min_totales_por_semana',\n",
       "       'actividad_fisica_moderada_min_totales_por_semana_nsnc',\n",
       "       'caminata_veces_por_semana', 'caminata_min_totales_por_semana',\n",
       "       'caminata_min_totales_por_semana_nsnc', 'tiempo_sentado_min_por_dia',\n",
       "       'tiempo_sentado_min_por_dia_nsnc',\n",
       "       'razon_ninguna_actividad_la_ultima_semana',\n",
       "       'razon_poca_actividad_la_ultima_semana', 'af_fue_actividad_domestica',\n",
       "       'af_fue_actividad_laboral', 'af_fue_traslado', 'af_fue_deporte',\n",
       "       'nivel_actividad_fisica', 'barreras_actividad_fisica',\n",
       "       'alguna_vez_fumo', 'edad_fumo_primera_vez',\n",
       "       'No_sabe_edad_fumo_primera_vez', 'actualmente_fuma_cigarrillos',\n",
       "       'veces_presion_alta', 'profesional_indica_sobrepeso', 'peso_kg',\n",
       "       'altura_cm', 'considera_su_alimentacion', 'promedio_fv_diario',\n",
       "       'consumo_5porc_fv', 'colesterol_alto', 'consumido_alcohol',\n",
       "       'consumo_regular_riesgo', 'dijeron_diabetes',\n",
       "       'familiares_directos_diabetes', 'familiares_no_directos_diabetes'],\n",
       "      dtype='object')"
      ]
     },
     "execution_count": 47,
     "metadata": {},
     "output_type": "execute_result"
    }
   ],
   "source": [
    "df.columns"
   ]
  },
  {
   "cell_type": "code",
   "execution_count": 48,
   "id": "c70b322b-1e46-4540-9ed5-39e45e17b32a",
   "metadata": {},
   "outputs": [
    {
     "name": "stdout",
     "output_type": "stream",
     "text": [
      "       familiares_no_directos_diabetes  veces_presion_alta  colesterol_alto\n",
      "0                                    2                   3                2\n",
      "1                                    2                   3                1\n",
      "2                                    2                   3                2\n",
      "3                                    1                   3                1\n",
      "4                                   99                   3                2\n",
      "...                                ...                 ...              ...\n",
      "26193                                1                   3                2\n",
      "26194                                2                   2                1\n",
      "26195                                2                   2                1\n",
      "26196                                1                   3                2\n",
      "26197                               99                   2                2\n",
      "\n",
      "[26198 rows x 3 columns]\n"
     ]
    }
   ],
   "source": [
    "#muevo columnas de variables dependiendtes al final\n",
    "\n",
    "cols_to_move = [ 'veces_presion_alta', 'colesterol_alto', 'dijeron_diabetes']\n",
    "\n",
    "df = df[[col for col in df if col not in cols_to_move] + cols_to_move]\n",
    "\n",
    "print (df.iloc[:,-4:-1]) "
   ]
  },
  {
   "cell_type": "code",
   "execution_count": 49,
   "id": "17ad54a0-ef7c-4364-a9c5-6f7fd0694fdf",
   "metadata": {},
   "outputs": [
    {
     "name": "stdout",
     "output_type": "stream",
     "text": [
      "[1 2 3 4 5 6]\n"
     ]
    }
   ],
   "source": [
    "# Lista de las regiones únicas\n",
    "regiones = df['region'].unique()\n",
    "print(regiones)"
   ]
  },
  {
   "cell_type": "code",
   "execution_count": 50,
   "id": "d2721114-7700-4ef3-a956-cc87b28c9ae9",
   "metadata": {},
   "outputs": [],
   "source": [
    "# Crear un diccionario para almacenar los DataFrames por región\n",
    "dfs_por_region = {}\n"
   ]
  },
  {
   "cell_type": "code",
   "execution_count": 51,
   "id": "99f1fa5b-29af-4d09-9562-197aae41e1a6",
   "metadata": {},
   "outputs": [],
   "source": [
    "# Iterar sobre cada región y guardar un nuevo DF por cada una\n",
    "\n",
    "for region in regiones:\n",
    "    # Filtrar los datos por la región actual\n",
    "    df_region = df[df['region'] == region]\n",
    "    # Guardar el DataFrame en el diccionario usando la región como clave\n",
    "    dfs_por_region[region] = df_region\n"
   ]
  },
  {
   "cell_type": "code",
   "execution_count": 52,
   "id": "0b45a801-45e3-4498-ab06-c998a9f3cebf",
   "metadata": {},
   "outputs": [],
   "source": [
    "# Crear diccionarios para almacenar modelos y resultados por región\n",
    "modelos_por_region = {}\n",
    "resultados_por_region = {}\n",
    "importancia_por_region = {}\n",
    "\n",
    "# Iterar sobre cada región para entrenar y evaluar modelos\n",
    "for region in regiones:\n",
    "    # Obtener el DataFrame de la región actual\n",
    "    df_region = dfs_por_region[region]\n",
    "    \n",
    "    # Variables independientes\n",
    "    X_region = df_region.iloc[:, 1:-3]  # Todas las columnas menos las últimas tres y la primera (id)\n",
    "    \n",
    "    # Variables dependientes\n",
    "    y_region_colesterol = df_region['colesterol_alto']\n",
    "    y_region_diabetes = df_region['dijeron_diabetes']\n",
    "    y_region_hipertension = df_region['veces_presion_alta']\n",
    "\n",
    "    # Dividir los datos en conjuntos de entrenamiento y prueba para cada enfermedad\n",
    "    X_train_col, X_test_col, y_train_col, y_test_col = train_test_split(X_region, y_region_colesterol, test_size=0.25, random_state=0)\n",
    "    X_train_dia, X_test_dia, y_train_dia, y_test_dia = train_test_split(X_region, y_region_diabetes, test_size=0.25, random_state=0)\n",
    "    X_train_hip, X_test_hip, y_train_hip, y_test_hip = train_test_split(X_region, y_region_hipertension, test_size=0.25, random_state=0)\n",
    "    \n",
    "    # Crear y entrenar el modelo de árbol de decisión para cada enfermedad\n",
    "    clf_col = DecisionTreeClassifier(criterion='entropy', random_state=0, max_depth=4)\n",
    "    clf_col.fit(X_train_col, y_train_col)\n",
    "    \n",
    "    clf_dia = DecisionTreeClassifier(criterion='entropy', random_state=0, max_depth=4)\n",
    "    clf_dia.fit(X_train_dia, y_train_dia)\n",
    "    \n",
    "    clf_hip = DecisionTreeClassifier(criterion='entropy', random_state=0, max_depth=4)\n",
    "    clf_hip.fit(X_train_hip, y_train_hip)\n",
    "    \n",
    "    # Probar modelo con conjunto de prueba\n",
    "    y_pred_col = clf_col.predict(X_test_col)\n",
    "    y_pred_dia = clf_dia.predict(X_test_dia)\n",
    "    y_pred_hip = clf_hip.predict(X_test_hip)\n",
    "    \n",
    "    # Exactitud\n",
    "    acc_col = accuracy_score(y_test_col, y_pred_col)\n",
    "    acc_dia = accuracy_score(y_test_dia, y_pred_dia)\n",
    "    acc_hip = accuracy_score(y_test_hip, y_pred_hip)\n",
    "    \n",
    "    #importancia de cada columna\n",
    "    importances_col = clf_col.feature_importances_\n",
    "    importances_dia = clf_dia.feature_importances_\n",
    "    importances_hip = clf_hip.feature_importances_\n",
    "    \n",
    "    \n",
    "    # Almacenar los modelos y sus resultados por región\n",
    "    modelos_por_region[region] = {\n",
    "        'colesterol': clf_col,\n",
    "        'diabetes': clf_dia,\n",
    "        'hipertension': clf_hip\n",
    "    }\n",
    "    \n",
    "    resultados_por_region[region] = {\n",
    "        'colesterol': acc_col,\n",
    "        'diabetes': acc_dia,\n",
    "        'hipertension': acc_hip\n",
    "    }\n",
    "    \n",
    "    importancia_por_region[region]={\n",
    "        'colesterol': importances_col,\n",
    "        'diabetes': importances_dia,\n",
    "        'hipertension': importances_hip  \n",
    "    }\n",
    "  "
   ]
  },
  {
   "cell_type": "markdown",
   "id": "ec9a7f52-ec35-47dc-aadf-4ab7c58e63cd",
   "metadata": {},
   "source": [
    "  ## IMPRIMIMOS EXACTITUD POR CADA MODELO"
   ]
  },
  {
   "cell_type": "code",
   "execution_count": 53,
   "id": "3d731600-9f57-4c2d-a05a-a8d68cf06c33",
   "metadata": {},
   "outputs": [],
   "source": [
    "region_dict = {\n",
    "    1: 'Metropolitana',\n",
    "    2: 'Pampeana',\n",
    "    3: 'Noroeste',\n",
    "    4: 'Noreste',\n",
    "    5: 'Cuyo',\n",
    "    6: 'Patagónica'\n",
    "}"
   ]
  },
  {
   "cell_type": "code",
   "execution_count": 54,
   "id": "35b2067b-c6b8-4d52-b388-f7dcf22f8956",
   "metadata": {},
   "outputs": [
    {
     "name": "stdout",
     "output_type": "stream",
     "text": [
      "Región: Metropolitana\n",
      "Exactitud del modelo para colesterol: 0.7479\n",
      "Exactitud del modelo para diabetes: 0.8545\n",
      "Exactitud del modelo para hipertensión: 0.6412\n",
      "\n",
      "Región: Pampeana\n",
      "Exactitud del modelo para colesterol: 0.7700\n",
      "Exactitud del modelo para diabetes: 0.8589\n",
      "Exactitud del modelo para hipertensión: 0.6646\n",
      "\n",
      "Región: Noroeste\n",
      "Exactitud del modelo para colesterol: 0.7660\n",
      "Exactitud del modelo para diabetes: 0.8779\n",
      "Exactitud del modelo para hipertensión: 0.6650\n",
      "\n",
      "Región: Noreste\n",
      "Exactitud del modelo para colesterol: 0.8025\n",
      "Exactitud del modelo para diabetes: 0.8605\n",
      "Exactitud del modelo para hipertensión: 0.6417\n",
      "\n",
      "Región: Cuyo\n",
      "Exactitud del modelo para colesterol: 0.7517\n",
      "Exactitud del modelo para diabetes: 0.8383\n",
      "Exactitud del modelo para hipertensión: 0.6300\n",
      "\n",
      "Región: Patagónica\n",
      "Exactitud del modelo para colesterol: 0.7456\n",
      "Exactitud del modelo para diabetes: 0.8417\n",
      "Exactitud del modelo para hipertensión: 0.6670\n",
      "\n"
     ]
    }
   ],
   "source": [
    "# Mostrar los resultados\n",
    "for region, resultados in resultados_por_region.items():\n",
    "    nombre_region = region_dict.get(region, f\"Región {region}\")\n",
    "    print(f\"Región: {nombre_region}\")\n",
    "    print(f\"Exactitud del modelo para colesterol: {resultados['colesterol']:.4f}\")\n",
    "    print(f\"Exactitud del modelo para diabetes: {resultados['diabetes']:.4f}\")\n",
    "    print(f\"Exactitud del modelo para hipertensión: {resultados['hipertension']:.4f}\\n\")"
   ]
  },
  {
   "cell_type": "markdown",
   "id": "9a2bc244-74c5-46b0-aee5-dd37ad94fd88",
   "metadata": {},
   "source": [
    " ## IMPRIMIMOS IMPORTANCIA DE CADA COLUMNA"
   ]
  },
  {
   "cell_type": "markdown",
   "id": "8aeeddf5-3270-455f-a015-41c03a2b4213",
   "metadata": {},
   "source": [
    "### COLESTEROL"
   ]
  },
  {
   "cell_type": "code",
   "execution_count": 86,
   "id": "ccb5f6e1-a28b-4386-a242-0ee5740037ca",
   "metadata": {},
   "outputs": [
    {
     "name": "stdout",
     "output_type": "stream",
     "text": [
      "Región: Metropolitana\n",
      "edad: 0.5271\n",
      "profesional_indica_sobrepeso: 0.1337\n",
      "peso_kg: 0.0896\n",
      "sexo: 0.0880\n",
      "altura_cm: 0.0691\n",
      "\n",
      "\n",
      "Región: Pampeana\n",
      "edad: 0.5684\n",
      "profesional_indica_sobrepeso: 0.2467\n",
      "\n",
      "\n",
      "Región: Noroeste\n",
      "edad: 0.4633\n",
      "profesional_indica_sobrepeso: 0.3053\n",
      "razon_poca_actividad_la_ultima_semana: 0.0593\n",
      "\n",
      "\n",
      "Región: Noreste\n",
      "edad: 0.4969\n",
      "profesional_indica_sobrepeso: 0.3060\n",
      "\n",
      "\n",
      "Región: Cuyo\n",
      "edad: 0.4714\n",
      "profesional_indica_sobrepeso: 0.2137\n",
      "ingresos: 0.0734\n",
      "\n",
      "\n",
      "Región: Patagónica\n",
      "edad: 0.5516\n",
      "profesional_indica_sobrepeso: 0.2129\n",
      "ingresos: 0.0664\n",
      "tiempo_sentado_min_por_dia: 0.0517\n",
      "\n",
      "\n"
     ]
    }
   ],
   "source": [
    "\n",
    "# Crear un DataFrame vacío para almacenar las importancias\n",
    "importancias_colesterol_df = pd.DataFrame(columns=['Region', 'Variable', 'Importancia'])\n",
    "\n",
    "\n",
    "for region, importancias in importancia_por_region.items():\n",
    "    # Obtener la importancia de colesterol de la región actual\n",
    "    importances_col = importancias['colesterol']\n",
    "    \n",
    "    # Obtener el DataFrame de la región actual para obtener los nombres de las columnas\n",
    "    df_region = dfs_por_region[region]\n",
    "    X_region = df_region.iloc[:, 1:-3]\n",
    "    columnas_originales = X_region.columns\n",
    "    \n",
    "    # Ordenar los índices de las importancias de mayor a menor\n",
    "    indices_ordenados = np.argsort(importances_col)[::-1]\n",
    "    \n",
    "    # Obtener el nombre de la región\n",
    "    nombre_region = region_dict.get(region, f\"Región {region}\")\n",
    "    \n",
    "    # Imprimir los resultados\n",
    "    print(f\"Región: {nombre_region}\")\n",
    "    for i in indices_ordenados:\n",
    "        if importances_col[i] > 0.05:  # solo imprimo columnas con importancia mayor a 0\n",
    "                                 \n",
    "            print(f\"{columnas_originales[i]}: {importances_col[i]:.4f}\")\n",
    "            \n",
    "            importancias_colesterol_df = importancias_colesterol_df.append({\n",
    "                'Region': nombre_region,\n",
    "                'Variable': columnas_originales[i],\n",
    "                'Importancia': importances_col[i]     \n",
    "            }, ignore_index=True)\n",
    "            \n",
    "    print(\"\\n\")    \n",
    "    \n",
    "    "
   ]
  },
  {
   "cell_type": "code",
   "execution_count": 87,
   "id": "2bdc959a-d242-4bc6-a39f-65b1e5b351cb",
   "metadata": {},
   "outputs": [
    {
     "data": {
      "image/png": "[encoded data removed]",
      "text/plain": [
       "<Figure size 1200x800 with 1 Axes>"
      ]
     },
     "metadata": {},
     "output_type": "display_data"
    }
   ],
   "source": [
    "\n",
    "plt.figure(figsize=(12, 8))\n",
    "sns.barplot(x='Importancia', y='Variable', hue='Region', data=importancias_colesterol_df)\n",
    "plt.title('Importancia de las Variables por Región (Colesterol)')\n",
    "plt.show()"
   ]
  },
  {
   "cell_type": "code",
   "execution_count": null,
   "id": "dbdc630f-7327-4679-b9ea-76c5ca042836",
   "metadata": {},
   "outputs": [],
   "source": []
  },
  {
   "cell_type": "markdown",
   "id": "bd9644f7-d0d1-4bd5-ba78-42ead5572737",
   "metadata": {},
   "source": [
    "### HIPERTENSIÓN"
   ]
  },
  {
   "cell_type": "code",
   "execution_count": 88,
   "id": "91722607-074c-4432-8b88-7ae2333a58a6",
   "metadata": {},
   "outputs": [
    {
     "name": "stdout",
     "output_type": "stream",
     "text": [
      "Región: Metropolitana\n",
      "edad: 0.5492\n",
      "peso_kg: 0.2000\n",
      "nivel_instruccion: 0.0683\n",
      "\n",
      "\n",
      "Región: Pampeana\n",
      "edad: 0.6758\n",
      "profesional_indica_sobrepeso: 0.1581\n",
      "\n",
      "\n",
      "Región: Noroeste\n",
      "edad: 0.6518\n",
      "profesional_indica_sobrepeso: 0.1445\n",
      "\n",
      "\n",
      "Región: Noreste\n",
      "edad: 0.6737\n",
      "profesional_indica_sobrepeso: 0.1992\n",
      "\n",
      "\n",
      "Región: Cuyo\n",
      "edad: 0.5603\n",
      "profesional_indica_sobrepeso: 0.1805\n",
      "peso_kg: 0.1052\n",
      "\n",
      "\n",
      "Región: Patagónica\n",
      "edad: 0.5707\n",
      "profesional_indica_sobrepeso: 0.1299\n",
      "peso_kg: 0.1266\n",
      "\n",
      "\n"
     ]
    }
   ],
   "source": [
    "\n",
    "# Crear un DataFrame vacío para almacenar las importancias\n",
    "importancias_hipertension_df = pd.DataFrame(columns=['Region', 'Variable', 'Importancia'])\n",
    "\n",
    "\n",
    "for region, importancias in importancia_por_region.items():\n",
    "    # Obtener la importancia de colesterol de la región actual\n",
    "    importances_hip = importancias['hipertension']\n",
    "    \n",
    "    # Obtener el DataFrame de la región actual para obtener los nombres de las columnas\n",
    "    df_region = dfs_por_region[region]\n",
    "    X_region = df_region.iloc[:, 1:-3]\n",
    "    columnas_originales = X_region.columns\n",
    "    \n",
    "    # Ordenar los índices de las importancias de mayor a menor\n",
    "    indices_ordenados = np.argsort(importances_hip)[::-1]\n",
    "    \n",
    "    # Obtener el nombre de la región\n",
    "    nombre_region = region_dict.get(region, f\"Región {region}\")\n",
    "    \n",
    "    # Imprimir los resultados\n",
    "    print(f\"Región: {nombre_region}\")\n",
    "    for i in indices_ordenados:\n",
    "        if importances_hip[i] > 0.05:  # solo imprimo columnas con importancia mayor a 0\n",
    "                    \n",
    "            print(f\"{columnas_originales[i]}: {importances_hip[i]:.4f}\")\n",
    "            \n",
    "            importancias_hipertension_df = importancias_hipertension_df.append({\n",
    "                'Region': nombre_region,\n",
    "                'Variable': columnas_originales[i],\n",
    "                'Importancia': importances_hip[i]     \n",
    "            }, ignore_index=True)\n",
    "            \n",
    "    print(\"\\n\") \n",
    "\n",
    "\n",
    "\n",
    "\n"
   ]
  },
  {
   "cell_type": "code",
   "execution_count": 89,
   "id": "0f7a88fa-3848-4fea-a818-530eebf02395",
   "metadata": {},
   "outputs": [
    {
     "data": {
      "image/png": "[encoded data removed]",
      "text/plain": [
       "<Figure size 1200x800 with 1 Axes>"
      ]
     },
     "metadata": {},
     "output_type": "display_data"
    }
   ],
   "source": [
    "\n",
    "plt.figure(figsize=(12, 8))\n",
    "sns.barplot(x='Importancia', y='Variable', hue='Region', data=importancias_hipertension_df)\n",
    "plt.title('Importancia de las Variables por Región (Hipertensión)')\n",
    "plt.show()"
   ]
  },
  {
   "cell_type": "code",
   "execution_count": null,
   "id": "c2b9d4a4-9d8e-4bba-99c2-59eada1ae711",
   "metadata": {},
   "outputs": [],
   "source": []
  },
  {
   "cell_type": "markdown",
   "id": "7625613c-daff-423f-88f9-df411c208d93",
   "metadata": {},
   "source": [
    "### DIABETES"
   ]
  },
  {
   "cell_type": "code",
   "execution_count": 90,
   "id": "a93ffbec-8de8-4d0b-86aa-0761b66c769d",
   "metadata": {},
   "outputs": [
    {
     "name": "stdout",
     "output_type": "stream",
     "text": [
      "Región: Metropolitana\n",
      "edad: 0.2766\n",
      "familiares_directos_diabetes: 0.1991\n",
      "profesional_indica_sobrepeso: 0.1224\n",
      "familiares_no_directos_diabetes: 0.0727\n",
      "caminata_veces_por_semana: 0.0548\n",
      "af_intensa_min_totales_por_semana: 0.0535\n",
      "\n",
      "\n",
      "Región: Pampeana\n",
      "profesional_indica_sobrepeso: 0.3349\n",
      "edad: 0.2477\n",
      "familiares_directos_diabetes: 0.2308\n",
      "altura_cm: 0.0774\n",
      "\n",
      "\n",
      "Región: Noroeste\n",
      "profesional_indica_sobrepeso: 0.3234\n",
      "edad: 0.2949\n",
      "familiares_directos_diabetes: 0.2039\n",
      "\n",
      "\n",
      "Región: Noreste\n",
      "edad: 0.3707\n",
      "familiares_directos_diabetes: 0.3336\n",
      "peso_kg: 0.0877\n",
      "\n",
      "\n",
      "Región: Cuyo\n",
      "profesional_indica_sobrepeso: 0.2483\n",
      "edad: 0.2265\n",
      "familiares_directos_diabetes: 0.1028\n",
      "altura_cm: 0.0822\n",
      "consumido_alcohol: 0.0625\n",
      "af_moderada_min_totales_por_semana: 0.0573\n",
      "af_intensa_min_totales_por_semana: 0.0535\n",
      "\n",
      "\n",
      "Región: Patagónica\n",
      "edad: 0.3267\n",
      "familiares_directos_diabetes: 0.1517\n",
      "familiares_no_directos_diabetes: 0.0791\n",
      "af_moderada_min_totales_por_semana: 0.0771\n",
      "profesional_indica_sobrepeso: 0.0763\n",
      "nivel_instruccion: 0.0625\n",
      "cant_componentes: 0.0606\n",
      "\n",
      "\n"
     ]
    }
   ],
   "source": [
    "\n",
    "# Crear un DataFrame vacío para almacenar las importancias\n",
    "importancias_diabetes_df = pd.DataFrame(columns=['Region', 'Variable', 'Importancia'])\n",
    "\n",
    "for region, importancias in importancia_por_region.items():\n",
    "    # Obtener la importancia de colesterol de la región actual\n",
    "    importances_dia = importancias['diabetes']\n",
    "    \n",
    "    # Obtener el DataFrame de la región actual para obtener los nombres de las columnas\n",
    "    df_region = dfs_por_region[region]\n",
    "    X_region = df_region.iloc[:, 1:-3]\n",
    "    columnas_originales = X_region.columns\n",
    "    \n",
    "    # Ordenar los índices de las importancias de mayor a menor\n",
    "    indices_ordenados = np.argsort(importances_dia)[::-1]\n",
    "    \n",
    "    # Obtener el nombre de la región\n",
    "    nombre_region = region_dict.get(region, f\"Región {region}\")\n",
    "    \n",
    "   \n",
    "    \n",
    "    # Imprimir los resultados\n",
    "    print(f\"Región: {nombre_region}\")\n",
    "    for i in indices_ordenados:\n",
    "        if importances_dia[i] > 0.05:  # solo imprimo columnas con importancia mayor a 0\n",
    "            print(f\"{columnas_originales[i]}: {importances_dia[i]:.4f}\")\n",
    "            \n",
    "            importancias_diabetes_df = importancias_diabetes_df.append({\n",
    "                'Region': nombre_region,\n",
    "                'Variable': columnas_originales[i],\n",
    "                'Importancia': importances_dia[i]     \n",
    "            }, ignore_index=True)\n",
    "    print(\"\\n\")\n"
   ]
  },
  {
   "cell_type": "code",
   "execution_count": 91,
   "id": "e6d0e87d-a0dd-4bf9-8bec-a0df926d1905",
   "metadata": {},
   "outputs": [
    {
     "data": {
      "image/png": "[encoded data removed]",
      "text/plain": [
       "<Figure size 1200x800 with 1 Axes>"
      ]
     },
     "metadata": {},
     "output_type": "display_data"
    }
   ],
   "source": [
    "\n",
    "plt.figure(figsize=(12, 8))\n",
    "sns.barplot(x='Importancia', y='Variable', hue='Region', data=importancias_diabetes_df)\n",
    "plt.title('Importancia de las Variables por Región (Diabetes)')\n",
    "plt.show()"
   ]
  },
  {
   "cell_type": "code",
   "execution_count": null,
   "id": "29f2745a-2f21-4c0b-8290-de00ce38a54b",
   "metadata": {},
   "outputs": [],
   "source": []
  },
  {
   "cell_type": "code",
   "execution_count": null,
   "id": "324a73a5-5da0-4c25-8d1a-26d07dfad0be",
   "metadata": {},
   "outputs": [],
   "source": []
  },
  {
   "cell_type": "code",
   "execution_count": null,
   "id": "c0f9b0b4-0e14-4781-ab22-09caf0a5cd67",
   "metadata": {},
   "outputs": [],
   "source": []
  },
  {
   "cell_type": "code",
   "execution_count": null,
   "id": "d4b3ba62-9c0a-4d39-acab-d364aaa388d2",
   "metadata": {},
   "outputs": [],
   "source": []
  },
  {
   "cell_type": "code",
   "execution_count": null,
   "id": "5dd7a0a7-4cb8-4852-9242-f8fa8766b2da",
   "metadata": {},
   "outputs": [],
   "source": [
    "    \n",
    "    "
   ]
  },
  {
   "cell_type": "code",
   "execution_count": null,
   "id": "f5fccbe1-32e3-4437-92a2-3155a8061c74",
   "metadata": {},
   "outputs": [],
   "source": []
  },
  {
   "cell_type": "code",
   "execution_count": null,
   "id": "7b3d02e3-28e4-45d8-bb2e-d9691cb04c3a",
   "metadata": {},
   "outputs": [],
   "source": []
  },
  {
   "cell_type": "code",
   "execution_count": null,
   "id": "b9a744bc-a774-4888-bc1a-c7a33b0aa7c6",
   "metadata": {},
   "outputs": [],
   "source": []
  },
  {
   "cell_type": "code",
   "execution_count": null,
   "id": "98d5203c-8f09-4ad5-ac14-5a03e7e361cd",
   "metadata": {},
   "outputs": [],
   "source": []
  },
  {
   "cell_type": "code",
   "execution_count": null,
   "id": "9ddeae49-26db-46a1-9837-840b56964ecf",
   "metadata": {},
   "outputs": [],
   "source": []
  },
  {
   "cell_type": "code",
   "execution_count": null,
   "id": "cc852db9-db65-4f99-bd15-9a429caae802",
   "metadata": {},
   "outputs": [],
   "source": []
  },
  {
   "cell_type": "code",
   "execution_count": null,
   "id": "5874cfae-273a-4ad5-a80e-6091e114bfa4",
   "metadata": {},
   "outputs": [],
   "source": []
  },
  {
   "cell_type": "code",
   "execution_count": null,
   "id": "302d04e4-9ec6-4a0d-a8fa-083bb1722ad3",
   "metadata": {},
   "outputs": [],
   "source": []
  },
  {
   "cell_type": "code",
   "execution_count": null,
   "id": "1bbb4f66-2a37-4ad4-a4ca-4cbf814831b3",
   "metadata": {},
   "outputs": [],
   "source": []
  },
  {
   "cell_type": "code",
   "execution_count": null,
   "id": "2df493d0-7d6f-4712-b910-599d9c361724",
   "metadata": {},
   "outputs": [],
   "source": []
  },
  {
   "cell_type": "code",
   "execution_count": null,
   "id": "f2757587-8c94-437f-a710-587b888f8357",
   "metadata": {},
   "outputs": [],
   "source": []
  },
  {
   "cell_type": "code",
   "execution_count": null,
   "id": "92c83461-76d5-4441-9266-dbdde34c6207",
   "metadata": {},
   "outputs": [],
   "source": []
  },
  {
   "cell_type": "code",
   "execution_count": null,
   "id": "4f011b35-fbed-4847-a0d2-b05feff202e9",
   "metadata": {},
   "outputs": [],
   "source": []
  },
  {
   "cell_type": "code",
   "execution_count": null,
   "id": "6db1ce90-d811-490b-a5c1-1495d02c1c54",
   "metadata": {},
   "outputs": [],
   "source": []
  },
  {
   "cell_type": "code",
   "execution_count": null,
   "id": "92e90a51-d010-443d-812a-cfb7637f5dc4",
   "metadata": {},
   "outputs": [],
   "source": []
  },
  {
   "cell_type": "code",
   "execution_count": null,
   "id": "036ed245-ff7f-4c37-b7bd-76ba8c7397c5",
   "metadata": {},
   "outputs": [],
   "source": [
    "\n"
   ]
  },
  {
   "cell_type": "code",
   "execution_count": null,
   "id": "fae77478-9db8-4301-8422-236bf9c0cd3e",
   "metadata": {},
   "outputs": [],
   "source": []
  },
  {
   "cell_type": "code",
   "execution_count": null,
   "id": "affabcbc-264f-4be1-84e7-025c6dd0274e",
   "metadata": {},
   "outputs": [],
   "source": []
  },
  {
   "cell_type": "code",
   "execution_count": null,
   "id": "2c4a6719-d2b5-4902-b162-e3dc19c2aa34",
   "metadata": {},
   "outputs": [],
   "source": [
    "   "
   ]
  },
  {
   "cell_type": "code",
   "execution_count": null,
   "id": "65b10a58-2613-4097-b3cc-31e2a6972dd6",
   "metadata": {},
   "outputs": [],
   "source": []
  },
  {
   "cell_type": "markdown",
   "id": "91fffba4-0261-41bf-b595-c8ec5ebcd71a",
   "metadata": {},
   "source": [
    "\n",
    "    \n",
    "    \n",
    "     \n",
    "    \n",
    "    \n"
   ]
  },
  {
   "cell_type": "code",
   "execution_count": null,
   "id": "efb63c17-ce1c-400b-8639-30f184d55c6d",
   "metadata": {},
   "outputs": [],
   "source": []
  },
  {
   "cell_type": "code",
   "execution_count": null,
   "id": "51e14681-15c4-4762-bb51-d8a3dc9960c5",
   "metadata": {},
   "outputs": [],
   "source": []
  },
  {
   "cell_type": "code",
   "execution_count": null,
   "id": "9a5af830-0be8-4b50-93d1-a4e52ba725c0",
   "metadata": {},
   "outputs": [],
   "source": []
  },
  {
   "cell_type": "code",
   "execution_count": null,
   "id": "bebb7682-8e12-479e-97bb-2523910c672e",
   "metadata": {},
   "outputs": [],
   "source": []
  }
 ],
 "metadata": {
  "kernelspec": {
   "display_name": "Python 3",
   "language": "python",
   "name": "python3"
  },
  "language_info": {
   "codemirror_mode": {
    "name": "ipython",
    "version": 3
   },
   "file_extension": ".py",
   "mimetype": "text/x-python",
   "name": "python",
   "nbconvert_exporter": "python",
   "pygments_lexer": "ipython3",
   "version": "3.8.8"
  }
 },
 "nbformat": 4,
 "nbformat_minor": 5
}
