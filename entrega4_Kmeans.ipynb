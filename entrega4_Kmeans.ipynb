{
 "cells": [
  {
   "cell_type": "markdown",
   "id": "9770d135-60f0-44b1-a2ec-4630f366a735",
   "metadata": {},
   "source": [
    "# Se aplicará un algoritmos no supervisado Kmeans para agrupar los datos de la estadística utilizada. Se analizará con el resultado si las regiones son un buen separador de características considerando el análisis de ocurrencia de enfermedades \n",
    "\n"
   ]
  },
  {
   "cell_type": "code",
   "execution_count": 122,
   "id": "ad3ab8e3-3925-4dc8-a6cf-6d2f28eaa333",
   "metadata": {},
   "outputs": [],
   "source": [
    "#importamos librerías\n",
    "\n",
    "import pandas as pd\n",
    "import numpy as np\n",
    "import sklearn\n",
    "import matplotlib.pyplot as plt\n",
    "import seaborn as sns\n",
    "\n",
    "from sklearn.cluster import KMeans"
   ]
  },
  {
   "cell_type": "code",
   "execution_count": 123,
   "id": "677d7a60-adec-4462-a1e3-7ab60bd9e198",
   "metadata": {},
   "outputs": [],
   "source": [
    "# IMPORTACIÓN DEL DATASET REDUCIDO LUEGO DEL PROCESAMIENTO DE COLUMNAS\n",
    "\n",
    "df = pd.read_csv('friesgo_2018_reduc.csv',  sep=',', encoding='utf-8')"
   ]
  },
  {
   "cell_type": "code",
   "execution_count": 124,
   "id": "c6b6a4c3-3e50-49ac-8e96-7deda50d9457",
   "metadata": {},
   "outputs": [],
   "source": [
    "#muevo columnas de variables dependiendtes (enfermedades) al final\n",
    "\n",
    "columnas_alFinal = [ 'dijeron_diabetes','veces_presion_alta', 'colesterol_alto']\n",
    "\n",
    "df = df[[col for col in df if col not in columnas_alFinal] + columnas_alFinal]\n",
    "\n",
    "#print (df.iloc[:,-3:]) "
   ]
  },
  {
   "cell_type": "code",
   "execution_count": 125,
   "id": "1ca7d5ca-faef-4d37-9959-c3fbe2aca1a3",
   "metadata": {},
   "outputs": [],
   "source": [
    "#conjunto de datos sin las 3 columnas target y sin ID\n",
    "\n",
    "X = df.iloc[:, 1:-3]  # Todas las columnas menos las últimas tres y la primera (id)"
   ]
  },
  {
   "cell_type": "code",
   "execution_count": null,
   "id": "c3a3c4d3-be86-4f9f-8c87-8c4c152bf967",
   "metadata": {},
   "outputs": [],
   "source": []
  },
  {
   "cell_type": "code",
   "execution_count": 126,
   "id": "4b9fa39f-69d4-4906-88ce-4667200ac86b",
   "metadata": {},
   "outputs": [],
   "source": [
    "\n",
    "# Crear el modelo K-means con 6 clusters (tengo 6 regiones en el dataset)\n",
    "\n",
    "kmeans = KMeans(n_clusters=6, random_state=0, n_init=10) # pueden probar con otros números\n"
   ]
  },
  {
   "cell_type": "code",
   "execution_count": 127,
   "id": "ab2adec2-49b6-41a5-b11c-19b2538142af",
   "metadata": {},
   "outputs": [
    {
     "data": {
      "text/html": [
       "<style>#sk-container-id-6 {color: black;}#sk-container-id-6 pre{padding: 0;}#sk-container-id-6 div.sk-toggleable {background-color: white;}#sk-container-id-6 label.sk-toggleable__label {cursor: pointer;display: block;width: 100%;margin-bottom: 0;padding: 0.3em;box-sizing: border-box;text-align: center;}#sk-container-id-6 label.sk-toggleable__label-arrow:before {content: \"▸\";float: left;margin-right: 0.25em;color: #696969;}#sk-container-id-6 label.sk-toggleable__label-arrow:hover:before {color: black;}#sk-container-id-6 div.sk-estimator:hover label.sk-toggleable__label-arrow:before {color: black;}#sk-container-id-6 div.sk-toggleable__content {max-height: 0;max-width: 0;overflow: hidden;text-align: left;background-color: #f0f8ff;}#sk-container-id-6 div.sk-toggleable__content pre {margin: 0.2em;color: black;border-radius: 0.25em;background-color: #f0f8ff;}#sk-container-id-6 input.sk-toggleable__control:checked~div.sk-toggleable__content {max-height: 200px;max-width: 100%;overflow: auto;}#sk-container-id-6 input.sk-toggleable__control:checked~label.sk-toggleable__label-arrow:before {content: \"▾\";}#sk-container-id-6 div.sk-estimator input.sk-toggleable__control:checked~label.sk-toggleable__label {background-color: #d4ebff;}#sk-container-id-6 div.sk-label input.sk-toggleable__control:checked~label.sk-toggleable__label {background-color: #d4ebff;}#sk-container-id-6 input.sk-hidden--visually {border: 0;clip: rect(1px 1px 1px 1px);clip: rect(1px, 1px, 1px, 1px);height: 1px;margin: -1px;overflow: hidden;padding: 0;position: absolute;width: 1px;}#sk-container-id-6 div.sk-estimator {font-family: monospace;background-color: #f0f8ff;border: 1px dotted black;border-radius: 0.25em;box-sizing: border-box;margin-bottom: 0.5em;}#sk-container-id-6 div.sk-estimator:hover {background-color: #d4ebff;}#sk-container-id-6 div.sk-parallel-item::after {content: \"\";width: 100%;border-bottom: 1px solid gray;flex-grow: 1;}#sk-container-id-6 div.sk-label:hover label.sk-toggleable__label {background-color: #d4ebff;}#sk-container-id-6 div.sk-serial::before {content: \"\";position: absolute;border-left: 1px solid gray;box-sizing: border-box;top: 0;bottom: 0;left: 50%;z-index: 0;}#sk-container-id-6 div.sk-serial {display: flex;flex-direction: column;align-items: center;background-color: white;padding-right: 0.2em;padding-left: 0.2em;position: relative;}#sk-container-id-6 div.sk-item {position: relative;z-index: 1;}#sk-container-id-6 div.sk-parallel {display: flex;align-items: stretch;justify-content: center;background-color: white;position: relative;}#sk-container-id-6 div.sk-item::before, #sk-container-id-6 div.sk-parallel-item::before {content: \"\";position: absolute;border-left: 1px solid gray;box-sizing: border-box;top: 0;bottom: 0;left: 50%;z-index: -1;}#sk-container-id-6 div.sk-parallel-item {display: flex;flex-direction: column;z-index: 1;position: relative;background-color: white;}#sk-container-id-6 div.sk-parallel-item:first-child::after {align-self: flex-end;width: 50%;}#sk-container-id-6 div.sk-parallel-item:last-child::after {align-self: flex-start;width: 50%;}#sk-container-id-6 div.sk-parallel-item:only-child::after {width: 0;}#sk-container-id-6 div.sk-dashed-wrapped {border: 1px dashed gray;margin: 0 0.4em 0.5em 0.4em;box-sizing: border-box;padding-bottom: 0.4em;background-color: white;}#sk-container-id-6 div.sk-label label {font-family: monospace;font-weight: bold;display: inline-block;line-height: 1.2em;}#sk-container-id-6 div.sk-label-container {text-align: center;}#sk-container-id-6 div.sk-container {/* jupyter's `normalize.less` sets `[hidden] { display: none; }` but bootstrap.min.css set `[hidden] { display: none !important; }` so we also need the `!important` here to be able to override the default hidden behavior on the sphinx rendered scikit-learn.org. See: https://github.com/scikit-learn/scikit-learn/issues/21755 */display: inline-block !important;position: relative;}#sk-container-id-6 div.sk-text-repr-fallback {display: none;}</style><div id=\"sk-container-id-6\" class=\"sk-top-container\"><div class=\"sk-text-repr-fallback\"><pre>KMeans(n_clusters=6, n_init=10, random_state=0)</pre><b>In a Jupyter environment, please rerun this cell to show the HTML representation or trust the notebook. <br />On GitHub, the HTML representation is unable to render, please try loading this page with nbviewer.org.</b></div><div class=\"sk-container\" hidden><div class=\"sk-item\"><div class=\"sk-estimator sk-toggleable\"><input class=\"sk-toggleable__control sk-hidden--visually\" id=\"sk-estimator-id-6\" type=\"checkbox\" checked><label for=\"sk-estimator-id-6\" class=\"sk-toggleable__label sk-toggleable__label-arrow\">KMeans</label><div class=\"sk-toggleable__content\"><pre>KMeans(n_clusters=6, n_init=10, random_state=0)</pre></div></div></div></div></div>"
      ],
      "text/plain": [
       "KMeans(n_clusters=6, n_init=10, random_state=0)"
      ]
     },
     "execution_count": 127,
     "metadata": {},
     "output_type": "execute_result"
    }
   ],
   "source": [
    "# Ajustar el modelo a los datos\n",
    "kmeans.fit(X)\n"
   ]
  },
  {
   "cell_type": "code",
   "execution_count": 128,
   "id": "e58865c7-ae34-4c10-98a2-62dca6282d85",
   "metadata": {},
   "outputs": [],
   "source": [
    "# Agrega los labels (clusters) generados al DataFrame original\n",
    "df['Cluster'] = kmeans.labels_"
   ]
  },
  {
   "cell_type": "code",
   "execution_count": 129,
   "id": "70162c07-b197-4211-bb52-caae6c6ac121",
   "metadata": {},
   "outputs": [
    {
     "name": "stdout",
     "output_type": "stream",
     "text": [
      "region      1     2     3     4     5     6\n",
      "Cluster                                    \n",
      "0        1255  3255  1752  1531     2     0\n",
      "1           6    14    21    21     2    14\n",
      "2         381  1554   941   875   336   634\n",
      "3           6    12     6     3     4     3\n",
      "4           0     0     2   282  2006  2936\n",
      "5        1589  3449  1935   807     3     0\n"
     ]
    }
   ],
   "source": [
    "# Ver la distribución de las regiones dentro de cada cluster\n",
    "cluster_region_distribution = pd.crosstab(df['Cluster'], df['region'])\n",
    "print(cluster_region_distribution)"
   ]
  },
  {
   "cell_type": "code",
   "execution_count": 130,
   "id": "546b1849-8278-41f4-bbee-2ac96dddcb95",
   "metadata": {},
   "outputs": [],
   "source": [
    "region_dict = {\n",
    "    1: 'Metropolitana',\n",
    "    2: 'Pampeana',\n",
    "    3: 'Noroeste',\n",
    "    4: 'Noreste',\n",
    "    5: 'Cuyo',\n",
    "    6: 'Patagónica'\n",
    "}\n",
    "\n",
    "\n"
   ]
  },
  {
   "cell_type": "code",
   "execution_count": 131,
   "id": "f29f2501-4e31-4b9c-89c3-b31843b1162c",
   "metadata": {},
   "outputs": [
    {
     "name": "stdout",
     "output_type": "stream",
     "text": [
      "region   Metropolitana  Pampeana  Noroeste  Noreste  Cuyo  Patagónica\n",
      "Cluster                                                              \n",
      "0                 1255      3255      1752     1531     2           0\n",
      "1                    6        14        21       21     2          14\n",
      "2                  381      1554       941      875   336         634\n",
      "3                    6        12         6        3     4           3\n",
      "4                    0         0         2      282  2006        2936\n",
      "5                 1589      3449      1935      807     3           0\n"
     ]
    }
   ],
   "source": [
    "cluster_region_distribution = cluster_region_distribution.rename(columns=region_dict)\n",
    "print(cluster_region_distribution)"
   ]
  },
  {
   "cell_type": "markdown",
   "id": "c677a94e-de9a-4706-a15a-10752eb38a36",
   "metadata": {},
   "source": [
    "### si bien se observan alguna mayor cantidad de datos de cierta region en algunos clusters, es dificil comparar por el hecho que cada region tiene un npumero total de datos diferentes por lo que se hará la misma distribución de forma porcentua"
   ]
  },
  {
   "cell_type": "code",
   "execution_count": 132,
   "id": "98929a87-c617-4f21-b633-28c00e6be806",
   "metadata": {},
   "outputs": [
    {
     "name": "stdout",
     "output_type": "stream",
     "text": [
      "region\n",
      "Metropolitana    3237\n",
      "Pampeana         8284\n",
      "Noroeste         4657\n",
      "Noreste          3519\n",
      "Cuyo             2353\n",
      "Patagónica       3587\n",
      "dtype: int64\n"
     ]
    }
   ],
   "source": [
    "# Calcula el total de datos en cada region\n",
    "#total_por_cluster = cluster_region_distribution.sum(axis=1)\n",
    "#print(total_por_cluster)\n",
    "\n",
    "total_por_region =  cluster_region_distribution.sum(axis=0)\n",
    "print(total_por_region)"
   ]
  },
  {
   "cell_type": "code",
   "execution_count": 133,
   "id": "caf4d7da-6fef-4b32-81a6-ffe689cca863",
   "metadata": {},
   "outputs": [
    {
     "name": "stdout",
     "output_type": "stream",
     "text": [
      "region   Metropolitana   Pampeana   Noroeste    Noreste       Cuyo  Patagónica\n",
      "Cluster                                                                       \n",
      "0            38.770466  39.292612  37.620786  43.506678   0.084998    0.000000\n",
      "1             0.185357   0.169000   0.450934   0.596760   0.084998    0.390298\n",
      "2            11.770158  18.759054  20.206141  24.865018  14.279643   17.674937\n",
      "3             0.185357   0.144858   0.128838   0.085251   0.169996    0.083635\n",
      "4             0.000000   0.000000   0.042946   8.013640  85.252869   81.851129\n",
      "5            49.088662  41.634476  41.550354  22.932651   0.127497    0.000000\n"
     ]
    }
   ],
   "source": [
    "\n",
    "# Calcula el porcentaje de datos por región en cada cluster\n",
    "#cluster_region_percentage = cluster_region_distribution.div(total_por_cluster, axis=0) * 100\n",
    "\n",
    "region_percentage = cluster_region_distribution.div(total_por_region, axis=1) * 100\n",
    "print(region_percentage)\n"
   ]
  },
  {
   "cell_type": "markdown",
   "id": "bb78a72a-d8e4-4da7-8aff-3a486479fa1d",
   "metadata": {},
   "source": [
    "### Se observa que por ejemplo la region cuyo y patagónica tienen un gran componente en le cluster 4, el cluster 5 tienen un gran compoennte de las regiones metropolitana, pampeana y noroeste y el otro componente lo tienen el cluster 0... luego el cluster 2 en menor medida. los cluster 3 y 1 tienen poca cantidadd de datos. \n",
    "\n",
    "### esto podría sugerir una mala distribución de clusters (tal vez menor o mayor cantidad). Se probará el método Elbow para encontrar una cantidad óptima de clusters\n",
    "\n",
    "\n"
   ]
  },
  {
   "cell_type": "markdown",
   "id": "1243a237-7c05-4a3c-a2b2-989b7ce87600",
   "metadata": {},
   "source": [
    "# Método Elbow"
   ]
  },
  {
   "cell_type": "code",
   "execution_count": 134,
   "id": "03105629-aa4b-47dd-9504-694e710fef47",
   "metadata": {},
   "outputs": [
    {
     "data": {
      "image/png": "[encoded data removed]",
      "text/plain": [
       "<Figure size 640x480 with 1 Axes>"
      ]
     },
     "metadata": {},
     "output_type": "display_data"
    }
   ],
   "source": [
    "wcss = []\n",
    "for i in range(1, 11):\n",
    "    km = KMeans(n_clusters=i, init='k-means++', max_iter=300, n_init=10, random_state=0)\n",
    "    km.fit(X)\n",
    "    wcss.append(km.inertia_)\n",
    "plt.plot(range(1, 11), wcss, c=\"#c51b7d\")\n",
    "plt.gca().spines[\"top\"].set_visible(False)\n",
    "plt.gca().spines[\"right\"].set_visible(False)\n",
    "plt.title('Metodo Elbow', size=14)\n",
    "plt.xlabel('Numero de Clusters', size=12)\n",
    "plt.ylabel('wcss', size=14)\n",
    "plt.show()"
   ]
  },
  {
   "cell_type": "markdown",
   "id": "94734a5b-2099-4e87-8f81-de796ead7c79",
   "metadata": {},
   "source": [
    "# Método Silhouette"
   ]
  },
  {
   "cell_type": "code",
   "execution_count": null,
   "id": "121bb5ee-4017-444f-8191-084d649be57e",
   "metadata": {},
   "outputs": [],
   "source": [
    "from sklearn.metrics import silhouette_score\n",
    "\n",
    "sil = []\n",
    "kmax = 10\n",
    "\n",
    "# dissimilarity would not be defined for a single cluster, thus, minimum number of clusters should be 2\n",
    "for k in range(2, kmax+1):\n",
    "    kmeans = KMeans(n_clusters=k).fit(X)\n",
    "    labels = kmeans.labels_\n",
    "    sil.append(silhouette_score(X, labels, metric='euclidean'))\n",
    "    \n",
    "    "
   ]
  },
  {
   "cell_type": "code",
   "execution_count": 137,
   "id": "be421003-ecd5-4f05-812a-90d79e1468d7",
   "metadata": {},
   "outputs": [],
   "source": [
    "from sklearn.metrics import silhouette_score\n",
    "\n",
    "sil = []\n",
    "kmax = 10\n",
    "\n",
    "# dissimilarity would not be defined for a single cluster, thus, minimum number of clusters should be 2\n",
    "for k in range(2, kmax+1):\n",
    "    kmeans = KMeans(n_clusters=k,  n_init=10).fit(X)\n",
    "    labels = kmeans.labels_\n",
    "    sil.append(silhouette_score(X, labels, metric='euclidean'))\n",
    "    \n",
    " "
   ]
  },
  {
   "cell_type": "code",
   "execution_count": 137,
   "id": "f7400501-d2e0-4657-910d-844e727051f3",
   "metadata": {},
   "outputs": [],
   "source": [
    "   "
   ]
  },
  {
   "cell_type": "code",
   "execution_count": 91,
   "id": "f07ddfa5-ed38-4f60-b0b9-3477cceb1faf",
   "metadata": {},
   "outputs": [
    {
     "name": "stdout",
     "output_type": "stream",
     "text": [
      "region   Metropolitana   Pampeana   Noroeste    Noreste       Cuyo  Patagónica\n",
      "Cluster                                                                       \n",
      "0            44.454742  36.950748  34.485720   0.000000   0.000000    0.000000\n",
      "1             0.000000   0.000000   0.000000  26.058539  38.164046   48.146083\n",
      "2             0.185357   0.169000   0.450934   0.596760   0.084998    0.390298\n",
      "3             0.185357   0.144858   0.128838   0.085251   0.169996    0.083635\n",
      "4             0.000000   0.000000   0.000000  39.641944  30.344241   28.937831\n",
      "5            35.372258  34.898600  31.586858   0.000000   0.000000    0.000000\n",
      "6             5.715168   6.904877  10.607687   6.564365   9.434764    5.659325\n",
      "7            11.770158  18.746982  20.206141  24.751350  14.237144   14.106496\n",
      "8             2.131603   2.088363   2.469401   2.216539   7.522312    2.369668\n",
      "9             0.185357   0.096572   0.064419   0.085251   0.042499    0.306663\n"
     ]
    }
   ],
   "source": [
    "# Crear el modelo K-means con 3 clusters de acuerdo a lo indicado por Elbow\n",
    "\n",
    "kmeans2 = KMeans(n_clusters=10, random_state=0, n_init=10) # pueden probar con otros números\n",
    "\n",
    "# Ajustar el modelo a los datos\n",
    "kmeans2.fit(X)\n",
    "\n",
    "# Agrega los labels (clusters) generados al DataFrame original\n",
    "df['Cluster'] = kmeans2.labels_\n",
    "\n",
    "# Ver la distribución de las regiones dentro de cada cluster\n",
    "cluster_region_distribution2 = pd.crosstab(df['Cluster'], df['region'])\n",
    "\n",
    "cluster_region_distribution2 = cluster_region_distribution2.rename(columns=region_dict)\n",
    "# Calcula el total de datos en cada cluster\n",
    "total_por_region2 = cluster_region_distribution2.sum(axis=0)\n",
    "# Calcula el porcentaje de datos por región en cada cluster\n",
    "region_percentage2 = cluster_region_distribution2.div(total_por_region2, axis=1) * 100\n",
    "\n",
    "print(region_percentage2 )"
   ]
  },
  {
   "cell_type": "markdown",
   "id": "4dbb56af-17a8-43e3-8dc6-22cf01ab9677",
   "metadata": {},
   "source": [
    "### En esta cantidad de clusters se observa cierta agrupación donde las primeras tres regiones coinciden en vari"
   ]
  },
  {
   "cell_type": "code",
   "execution_count": 105,
   "id": "11f1336a-2f79-4911-afcd-af2c1a17cc71",
   "metadata": {},
   "outputs": [],
   "source": [
    "# Obtener los labels de los clusters y los centroides\n",
    "#labels = kmeans2.labels_\n",
    "#centroids = kmeans2.cluster_centers_"
   ]
  },
  {
   "cell_type": "code",
   "execution_count": 106,
   "id": "1bb99226-c773-45a0-9750-f31c905b7729",
   "metadata": {},
   "outputs": [],
   "source": [
    "\n",
    "# Crear un DataFrame con los datos y los labels de los clusters\n",
    "#df['Cluster'] = labels\n"
   ]
  },
  {
   "cell_type": "code",
   "execution_count": 108,
   "id": "60214727-9818-4eab-9aa0-0d695a3c665f",
   "metadata": {},
   "outputs": [
    {
     "data": {
      "image/png": "[encoded data removed]",
      "text/plain": [
       "<Figure size 1400x800 with 1 Axes>"
      ]
     },
     "metadata": {},
     "output_type": "display_data"
    }
   ],
   "source": [
    "# Crear un gráfico de dispersión de las dos primeras características\n",
    "#plt.figure(figsize=(12, 8))\n",
    "#sns.scatterplot(x=X.iloc[:, 0], y=X.iloc[:, 1], hue=df['Cluster'], palette='viridis', alpha=0.6, edgecolor=None)\n",
    "\n",
    "# Agregar los centroides al gráfico\n",
    "#plt.scatter(centroids[:, 0], centroids[:, 1], c='red', s=200, marker='X', label='Centroides', edgecolor='k')\n",
    "\n",
    "# Personalizar el gráfico\n",
    "#plt.title('Scatter Plot de Datos con Centroides de Clusters')\n",
    "#plt.xlabel('Característica 1')\n",
    "#plt.ylabel('Característica 2')\n",
    "#plt.legend()\n",
    "#plt.show()\n",
    "\n",
    "# Convertir los datos a formato largo para seaborn\n",
    "region_percentage_long2 = region_percentage2.reset_index().melt(id_vars='Cluster', var_name='Region', value_name='Percentage')\n",
    "\n",
    "# Crear el gráfico de barras apiladas\n",
    "plt.figure(figsize=(14, 8))\n",
    "sns.barplot(data=region_percentage_long2, x='Cluster', y='Percentage', hue='Region', palette='viridis')\n",
    "plt.title('Distribución Porcentual de Regiones por Cluster')\n",
    "plt.xlabel('Cluster')\n",
    "plt.ylabel('Porcentaje (%)')\n",
    "plt.legend(title='Región')\n",
    "plt.show()\n",
    "\n",
    "\n",
    "\n"
   ]
  },
  {
   "cell_type": "markdown",
   "id": "b5dfa4bf-aced-4c00-a203-f46cd393828e",
   "metadata": {},
   "source": [
    "#  Se analizará la clusterización y los rangos de EDAD"
   ]
  },
  {
   "cell_type": "code",
   "execution_count": null,
   "id": "c2ba3cb8-7d97-47bc-bfc8-ac167862dd60",
   "metadata": {},
   "outputs": [],
   "source": []
  },
  {
   "cell_type": "code",
   "execution_count": 92,
   "id": "67db6a1a-3560-49e3-bc56-ba1122547f2b",
   "metadata": {},
   "outputs": [],
   "source": [
    "from sklearn.preprocessing import KBinsDiscretizer"
   ]
  },
  {
   "cell_type": "code",
   "execution_count": 93,
   "id": "124719e1-0c3d-4127-aec8-fc8902fb09cf",
   "metadata": {},
   "outputs": [],
   "source": [
    "# Crear el discretizador\n",
    "kbd = KBinsDiscretizer(n_bins=4, encode='ordinal', strategy='kmeans')"
   ]
  },
  {
   "cell_type": "code",
   "execution_count": 100,
   "id": "0c7e9cb8-0c84-414b-aefc-e173526a58d6",
   "metadata": {},
   "outputs": [
    {
     "name": "stderr",
     "output_type": "stream",
     "text": [
      "C:\\Users\\diana\\anaconda3\\lib\\site-packages\\sklearn\\preprocessing\\_discretization.py:248: FutureWarning: In version 1.5 onwards, subsample=200_000 will be used by default. Set subsample explicitly to silence this warning in the mean time. Set subsample=None to disable subsampling explicitly.\n",
      "  warnings.warn(\n"
     ]
    }
   ],
   "source": [
    "\n",
    "# Ajustar y transformar los datos\n",
    "df['rango_edad'] = kbd.fit_transform(df[['edad']] )\n",
    "\n"
   ]
  },
  {
   "cell_type": "code",
   "execution_count": 95,
   "id": "c049a9ab-9c03-4f47-8503-0e6714dbb896",
   "metadata": {},
   "outputs": [
    {
     "name": "stdout",
     "output_type": "stream",
     "text": [
      "0        0.0\n",
      "1        2.0\n",
      "2        0.0\n",
      "3        2.0\n",
      "4        0.0\n",
      "        ... \n",
      "25632    0.0\n",
      "25633    2.0\n",
      "25634    3.0\n",
      "25635    1.0\n",
      "25636    1.0\n",
      "Name: rango_edad, Length: 25637, dtype: float64\n"
     ]
    }
   ],
   "source": [
    "print(df['rango_edad'])"
   ]
  },
  {
   "cell_type": "code",
   "execution_count": 96,
   "id": "05908d18-10a4-4d30-af95-1b5588181c62",
   "metadata": {},
   "outputs": [
    {
     "data": {
      "text/plain": [
       "Index(['id', 'region', 'tamanio_aglomerado_2', 'tamanio_aglomerado_3',\n",
       "       'tamanio_aglomerado_4', 'tipo_vivienda_2', 'tipo_vivienda_3',\n",
       "       'tipo_vivienda_4', 'tipo_vivienda_5', 'tipo_vivienda_6',\n",
       "       ...\n",
       "       'dijeron_diabetes_99', 'familiares_directos_diabetes_2',\n",
       "       'familiares_directos_diabetes_99', 'familiares_no_directos_diabetes_2',\n",
       "       'familiares_no_directos_diabetes_99', 'dijeron_diabetes',\n",
       "       'veces_presion_alta', 'colesterol_alto', 'Cluster', 'rango_edad'],\n",
       "      dtype='object', length=103)"
      ]
     },
     "execution_count": 96,
     "metadata": {},
     "output_type": "execute_result"
    }
   ],
   "source": [
    "df.columns"
   ]
  },
  {
   "cell_type": "code",
   "execution_count": 97,
   "id": "969a8ae0-0be1-4dbf-9449-aa16bd25af94",
   "metadata": {},
   "outputs": [],
   "source": [
    "#muevo columnas de variables dependiendtes (enfermedades) al final d enuevo porque cluster y rango edad se crean al final\n",
    "\n",
    "columnas_alFinal = [ 'dijeron_diabetes','veces_presion_alta', 'colesterol_alto']\n",
    "\n",
    "df = df[[col for col in df if col not in columnas_alFinal] + columnas_alFinal]\n",
    "\n",
    "#print (df.iloc[:,-3:]) \n",
    "\n",
    "X3 = df.iloc[:, 1:-3]  "
   ]
  },
  {
   "cell_type": "code",
   "execution_count": 98,
   "id": "1e8a352e-8f1a-4ac2-b208-63367f6cdf7e",
   "metadata": {},
   "outputs": [
    {
     "name": "stdout",
     "output_type": "stream",
     "text": [
      "rango_edad   0.0   1.0   2.0   3.0\n",
      "Cluster                           \n",
      "0           1714  1885  1706   801\n",
      "1             23    21    19    15\n",
      "2              0   115  1857  1127\n",
      "3           1044   597   250    46\n",
      "4           2680  2630    77     0\n",
      "5             14     7    10     3\n",
      "6            865  1205  1108   919\n",
      "7            252   237   157    49\n",
      "8            161   187   159   155\n",
      "9           1089  1079   973   401\n"
     ]
    }
   ],
   "source": [
    "# Crear el modelo K-means con 12 clusters (tengo 6 regiones en el dataset)\n",
    "\n",
    "kmeans3 = KMeans(n_clusters=10, random_state=0, n_init=10) # pueden probar con otros números\n",
    "\n",
    "# Ajustar el modelo a los datos\n",
    "kmeans3.fit(X3)\n",
    "\n",
    "# Agrega los labels (clusters) generados al DataFrame original\n",
    "df['Cluster'] = kmeans3.labels_\n",
    "\n",
    "# Ver la distribución de las regiones dentro de cada cluster\n",
    "cluster_edad_distribution3 = pd.crosstab(df['Cluster'], df['rango_edad'])\n",
    "\n",
    "\n",
    "print(cluster_edad_distribution3 )"
   ]
  },
  {
   "cell_type": "markdown",
   "id": "5eac9dbb-60bf-4fca-afa9-e6a90b683dc8",
   "metadata": {},
   "source": [
    "### Se fueron variando el número de clusters y no se observa que el rango de edad defina tampoco la separacion.  Analizaremos otro modelo"
   ]
  },
  {
   "cell_type": "code",
   "execution_count": null,
   "id": "5e1466f2-a19e-4fa3-a60f-12e674da9337",
   "metadata": {},
   "outputs": [],
   "source": []
  }
 ],
 "metadata": {
  "kernelspec": {
   "display_name": "Python 3",
   "language": "python",
   "name": "python3"
  },
  "language_info": {
   "codemirror_mode": {
    "name": "ipython",
    "version": 3
   },
   "file_extension": ".py",
   "mimetype": "text/x-python",
   "name": "python",
   "nbconvert_exporter": "python",
   "pygments_lexer": "ipython3",
   "version": "3.8.8"
  }
 },
 "nbformat": 4,
 "nbformat_minor": 5
}
