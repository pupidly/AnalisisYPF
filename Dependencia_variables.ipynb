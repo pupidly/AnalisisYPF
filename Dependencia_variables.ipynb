{
 "cells": [
  {
   "cell_type": "code",
   "execution_count": 1,
   "id": "7501d6d3-64ac-49e8-a36a-2fb3f0597ca2",
   "metadata": {},
   "outputs": [],
   "source": [
    "import numpy as np\n",
    "import pandas as pd\n",
    "import matplotlib.pyplot as plt\n",
    "import seaborn as sns\n",
    "from scipy import stats\n",
    "import sklearn as skl\n",
    "from scipy.stats import chi2_contingency\n",
    "\n",
    "\n"
   ]
  },
  {
   "cell_type": "code",
   "execution_count": 2,
   "id": "8b308547-3732-439f-bb2d-d3d944c09a10",
   "metadata": {},
   "outputs": [],
   "source": [
    "df_reduc= pd.read_csv('df_friesgo_reduc.csv')"
   ]
  },
  {
   "cell_type": "code",
   "execution_count": 3,
   "id": "8108bf07-2135-42d8-892c-fcd7cc5cc8ad",
   "metadata": {},
   "outputs": [
    {
     "data": {
      "text/html": [
       "<div>\n",
       "<style scoped>\n",
       "    .dataframe tbody tr th:only-of-type {\n",
       "        vertical-align: middle;\n",
       "    }\n",
       "\n",
       "    .dataframe tbody tr th {\n",
       "        vertical-align: top;\n",
       "    }\n",
       "\n",
       "    .dataframe thead th {\n",
       "        text-align: right;\n",
       "    }\n",
       "</style>\n",
       "<table border=\"1\" class=\"dataframe\">\n",
       "  <thead>\n",
       "    <tr style=\"text-align: right;\">\n",
       "      <th></th>\n",
       "      <th>Unnamed: 0</th>\n",
       "      <th>id</th>\n",
       "      <th>cod_provincia</th>\n",
       "      <th>region</th>\n",
       "      <th>tamanio_aglomerado</th>\n",
       "      <th>localidades_150</th>\n",
       "      <th>submuestra</th>\n",
       "      <th>salud_actual</th>\n",
       "      <th>nivel_de_movilidad</th>\n",
       "      <th>capacidad_cuidado_personal</th>\n",
       "      <th>...</th>\n",
       "      <th>control_hipertension</th>\n",
       "      <th>prevalencia_hipertension</th>\n",
       "      <th>medido_colesterol</th>\n",
       "      <th>fecha_med_colesterol</th>\n",
       "      <th>colesterol_alto</th>\n",
       "      <th>tratamiento_medico_col</th>\n",
       "      <th>trat_habitos_col</th>\n",
       "      <th>trat_farmac_col</th>\n",
       "      <th>autocontrol_col</th>\n",
       "      <th>prevalencia_colesterol</th>\n",
       "    </tr>\n",
       "  </thead>\n",
       "  <tbody>\n",
       "    <tr>\n",
       "      <th>0</th>\n",
       "      <td>0</td>\n",
       "      <td>1128639</td>\n",
       "      <td>2</td>\n",
       "      <td>1</td>\n",
       "      <td>1</td>\n",
       "      <td>1</td>\n",
       "      <td>1</td>\n",
       "      <td>3</td>\n",
       "      <td>1</td>\n",
       "      <td>1</td>\n",
       "      <td>...</td>\n",
       "      <td>1</td>\n",
       "      <td>2.0</td>\n",
       "      <td>1</td>\n",
       "      <td>2.0</td>\n",
       "      <td>2</td>\n",
       "      <td>NaN</td>\n",
       "      <td>NaN</td>\n",
       "      <td>NaN</td>\n",
       "      <td>NaN</td>\n",
       "      <td>2.0</td>\n",
       "    </tr>\n",
       "    <tr>\n",
       "      <th>1</th>\n",
       "      <td>1</td>\n",
       "      <td>1709939</td>\n",
       "      <td>2</td>\n",
       "      <td>1</td>\n",
       "      <td>1</td>\n",
       "      <td>1</td>\n",
       "      <td>0</td>\n",
       "      <td>1</td>\n",
       "      <td>1</td>\n",
       "      <td>1</td>\n",
       "      <td>...</td>\n",
       "      <td>1</td>\n",
       "      <td>2.0</td>\n",
       "      <td>1</td>\n",
       "      <td>2.0</td>\n",
       "      <td>1</td>\n",
       "      <td>2.0</td>\n",
       "      <td>NaN</td>\n",
       "      <td>NaN</td>\n",
       "      <td>1.0</td>\n",
       "      <td>1.0</td>\n",
       "    </tr>\n",
       "    <tr>\n",
       "      <th>2</th>\n",
       "      <td>2</td>\n",
       "      <td>6874130</td>\n",
       "      <td>2</td>\n",
       "      <td>1</td>\n",
       "      <td>1</td>\n",
       "      <td>1</td>\n",
       "      <td>0</td>\n",
       "      <td>2</td>\n",
       "      <td>1</td>\n",
       "      <td>1</td>\n",
       "      <td>...</td>\n",
       "      <td>1</td>\n",
       "      <td>2.0</td>\n",
       "      <td>1</td>\n",
       "      <td>2.0</td>\n",
       "      <td>2</td>\n",
       "      <td>NaN</td>\n",
       "      <td>NaN</td>\n",
       "      <td>NaN</td>\n",
       "      <td>NaN</td>\n",
       "      <td>2.0</td>\n",
       "    </tr>\n",
       "    <tr>\n",
       "      <th>3</th>\n",
       "      <td>3</td>\n",
       "      <td>10319375</td>\n",
       "      <td>2</td>\n",
       "      <td>1</td>\n",
       "      <td>1</td>\n",
       "      <td>1</td>\n",
       "      <td>1</td>\n",
       "      <td>3</td>\n",
       "      <td>1</td>\n",
       "      <td>1</td>\n",
       "      <td>...</td>\n",
       "      <td>1</td>\n",
       "      <td>2.0</td>\n",
       "      <td>1</td>\n",
       "      <td>2.0</td>\n",
       "      <td>1</td>\n",
       "      <td>1.0</td>\n",
       "      <td>2.0</td>\n",
       "      <td>1.0</td>\n",
       "      <td>1.0</td>\n",
       "      <td>1.0</td>\n",
       "    </tr>\n",
       "    <tr>\n",
       "      <th>4</th>\n",
       "      <td>4</td>\n",
       "      <td>11140857</td>\n",
       "      <td>2</td>\n",
       "      <td>1</td>\n",
       "      <td>1</td>\n",
       "      <td>1</td>\n",
       "      <td>0</td>\n",
       "      <td>3</td>\n",
       "      <td>1</td>\n",
       "      <td>1</td>\n",
       "      <td>...</td>\n",
       "      <td>1</td>\n",
       "      <td>2.0</td>\n",
       "      <td>1</td>\n",
       "      <td>1.0</td>\n",
       "      <td>2</td>\n",
       "      <td>NaN</td>\n",
       "      <td>NaN</td>\n",
       "      <td>NaN</td>\n",
       "      <td>NaN</td>\n",
       "      <td>2.0</td>\n",
       "    </tr>\n",
       "  </tbody>\n",
       "</table>\n",
       "<p>5 rows × 72 columns</p>\n",
       "</div>"
      ],
      "text/plain": [
       "   Unnamed: 0        id  cod_provincia  region  tamanio_aglomerado  \\\n",
       "0           0   1128639              2       1                   1   \n",
       "1           1   1709939              2       1                   1   \n",
       "2           2   6874130              2       1                   1   \n",
       "3           3  10319375              2       1                   1   \n",
       "4           4  11140857              2       1                   1   \n",
       "\n",
       "   localidades_150  submuestra  salud_actual  nivel_de_movilidad  \\\n",
       "0                1           1             3                   1   \n",
       "1                1           0             1                   1   \n",
       "2                1           0             2                   1   \n",
       "3                1           1             3                   1   \n",
       "4                1           0             3                   1   \n",
       "\n",
       "   capacidad_cuidado_personal  ...  control_hipertension  \\\n",
       "0                           1  ...                     1   \n",
       "1                           1  ...                     1   \n",
       "2                           1  ...                     1   \n",
       "3                           1  ...                     1   \n",
       "4                           1  ...                     1   \n",
       "\n",
       "   prevalencia_hipertension  medido_colesterol  fecha_med_colesterol  \\\n",
       "0                       2.0                  1                   2.0   \n",
       "1                       2.0                  1                   2.0   \n",
       "2                       2.0                  1                   2.0   \n",
       "3                       2.0                  1                   2.0   \n",
       "4                       2.0                  1                   1.0   \n",
       "\n",
       "   colesterol_alto  tratamiento_medico_col  trat_habitos_col  trat_farmac_col  \\\n",
       "0                2                     NaN               NaN              NaN   \n",
       "1                1                     2.0               NaN              NaN   \n",
       "2                2                     NaN               NaN              NaN   \n",
       "3                1                     1.0               2.0              1.0   \n",
       "4                2                     NaN               NaN              NaN   \n",
       "\n",
       "   autocontrol_col  prevalencia_colesterol  \n",
       "0              NaN                     2.0  \n",
       "1              1.0                     1.0  \n",
       "2              NaN                     2.0  \n",
       "3              1.0                     1.0  \n",
       "4              NaN                     2.0  \n",
       "\n",
       "[5 rows x 72 columns]"
      ]
     },
     "execution_count": 3,
     "metadata": {},
     "output_type": "execute_result"
    }
   ],
   "source": [
    "df_reduc.head(5)"
   ]
  },
  {
   "cell_type": "code",
   "execution_count": 4,
   "id": "b7541626-d651-44a1-9143-99d85dc769ce",
   "metadata": {},
   "outputs": [],
   "source": [
    "df_reduc.to_csv('reduc_conNomb.csv', sep = ',', encoding = 'utf-8', index=False)\n",
    "df_reduc.to_csv('reduc_ordenado.csv', sep = ',', encoding = 'utf-8', index=False)\n",
    "\n",
    "df_reduc_conNomb = pd.read_csv('reduc_conNomb.csv')\n",
    "df_reduc_ordenado  = pd.read_csv('reduc_ordenado.csv')"
   ]
  },
  {
   "cell_type": "code",
   "execution_count": 5,
   "id": "a7b5ed15-4fe3-4031-a0d9-597286e43672",
   "metadata": {},
   "outputs": [
    {
     "name": "stdout",
     "output_type": "stream",
     "text": [
      "0        1\n",
      "1        1\n",
      "2        1\n",
      "3        1\n",
      "4        1\n",
      "        ..\n",
      "29219    1\n",
      "29220    3\n",
      "29221    3\n",
      "29222    1\n",
      "29223    3\n",
      "Name: veces_presion_alta, Length: 29224, dtype: int64\n"
     ]
    }
   ],
   "source": [
    "situacion_conyugal_dict = {   \n",
    "    1: 'Unido/a',\n",
    "    2: 'Casado/a',\n",
    "    3: 'Separado/a',\n",
    "    4: 'Divorciado/a',\n",
    "    5: 'Viudo/a',\n",
    "    6: 'Soltero/a'\n",
    "}\n",
    "\n",
    "df_reduc_conNomb['situacion_conyugal'] = df_reduc_conNomb['situacion_conyugal'].map(situacion_conyugal_dict)\n",
    "df_reduc_ordenado['situacion_conyugal'] = df_reduc_ordenado['situacion_conyugal'].map(situacion_conyugal_dict)\n",
    "\n",
    "\n",
    "\n",
    "situacion_conyugal_2 = {\n",
    "    \n",
    "    'Soltero/a': 1,  # soltero pasa a ser el 1\n",
    "    'Unido/a': 2,  # unido pasa a ser el 2\n",
    "    'Casado/a': 3,  # casado pasa a ser el 3\n",
    "    'Separado/a': 4,  # separado pasa a ser el 4\n",
    "    'Divorciado/a': 5,  # divorciado pasa a ser el 5\n",
    "    'Viudo/a': 6  # viudo pasa a ser el 6  \n",
    "} \n",
    "        \n",
    "df_reduc_ordenado['situacion_conyugal'] = df_reduc_ordenado['situacion_conyugal'].map(situacion_conyugal_2)        \n",
    "        \n",
    "\n",
    "\n",
    "\n",
    "veces_presion_alta_dict = {    \n",
    "    1: 'solo 1 vez',\n",
    "    2: 'mas de 1 vez',\n",
    "    3: 'ninguna',\n",
    "    99: 'NsNc'\n",
    "}\n",
    "\n",
    "df_reduc_conNomb['veces_presion_alta'] = df_reduc_conNomb['veces_presion_alta'].map(veces_presion_alta_dict)\n",
    "df_reduc_ordenado['veces_presion_alta'] = df_reduc_ordenado['veces_presion_alta'].map(veces_presion_alta_dict)\n",
    "\n",
    "\n",
    "\n",
    "\n",
    "\n",
    "veces_presion_alta_2 = {  \n",
    "    'ninguna': 1,\n",
    "    'solo 1 vez': 2,\n",
    "    'mas de 1 vez': 3,\n",
    "    'NsNc': 4\n",
    "}\n",
    "\n",
    "df_reduc_ordenado['veces_presion_alta'] = df_reduc_ordenado['veces_presion_alta'].map(veces_presion_alta_2)\n",
    "\n",
    "print(df_reduc_ordenado['veces_presion_alta'])\n",
    "\n",
    "\n",
    "#print(df_reduc_conNomb['veces_presion_alta'].value_counts())\n",
    "#print(df_reduc_conNomb['situacion_conyugal'].value_counts())\n",
    "#print(df_reduc_conNomb['edad'].describe())"
   ]
  },
  {
   "cell_type": "code",
   "execution_count": 6,
   "id": "667c7e95-2964-4e5a-8a8e-07cfb24ee119",
   "metadata": {},
   "outputs": [
    {
     "data": {
      "text/plain": [
       "0        1\n",
       "1        1\n",
       "2        1\n",
       "3        1\n",
       "4        1\n",
       "        ..\n",
       "29219    1\n",
       "29220    3\n",
       "29221    3\n",
       "29222    1\n",
       "29223    3\n",
       "Name: veces_presion_alta, Length: 29224, dtype: int64"
      ]
     },
     "execution_count": 6,
     "metadata": {},
     "output_type": "execute_result"
    }
   ],
   "source": [
    "\n",
    "df_reduc_ordenado['veces_presion_alta']"
   ]
  },
  {
   "cell_type": "markdown",
   "id": "409e75a2-242a-404f-8b7e-8e97f2a041f6",
   "metadata": {},
   "source": [
    "# ANALISIS ESTADISTICO DE LAS VARIABLES\n",
    "\n",
    "## ANALISIS ENTRE EDAD Y SITUACION CONYUGAL\n"
   ]
  },
  {
   "cell_type": "code",
   "execution_count": 7,
   "id": "4c221a09-b4cf-4576-a30b-7859b7927515",
   "metadata": {},
   "outputs": [
    {
     "name": "stdout",
     "output_type": "stream",
     "text": [
      "Chi-cuadrado: 4592.79824387, p-valor: 0.00000000\n"
     ]
    }
   ],
   "source": [
    "# Tabla de contingencia\n",
    "\n",
    "contingencia = pd.crosstab(df_reduc_ordenado['veces_presion_alta'], df_reduc_ordenado['edad'])\n",
    "chi2, p, dof, expected = chi2_contingency(contingencia)\n",
    "\n",
    "print(f\"Chi-cuadrado: {chi2:.8f}, p-valor: {p:.8f}\")"
   ]
  },
  {
   "cell_type": "code",
   "execution_count": 8,
   "id": "a967dc06-d46e-494d-90ae-2b7daa58edeb",
   "metadata": {},
   "outputs": [
    {
     "name": "stdout",
     "output_type": "stream",
     "text": [
      "Chi-cuadrado: 1854.88691724, p-valor: 0.00000000\n"
     ]
    }
   ],
   "source": [
    "#print(contingencia)  # tabbla de contingencia\n",
    "#print(pd.DataFrame(expected, index=contingencia.index, columns=contingencia.columns)) #tabla de contingencia esperada si fueran independientes\n",
    "\n",
    "\n",
    "# Tabla de contingencia\n",
    "\n",
    "contingencia = pd.crosstab(df_reduc_ordenado['veces_presion_alta'], df_reduc_ordenado['situacion_conyugal'])\n",
    "chi2, p, dof, expected = chi2_contingency(contingencia)\n",
    "\n",
    "print(f\"Chi-cuadrado: {chi2:.8f}, p-valor: {p:.8f}\")"
   ]
  },
  {
   "cell_type": "code",
   "execution_count": 9,
   "id": "d9e24ee9-d0f2-485d-ad52-c0987ffe29e4",
   "metadata": {},
   "outputs": [
    {
     "name": "stdout",
     "output_type": "stream",
     "text": [
      "Chi-cuadrado: 18522.21840998, p-valor: 0.00000000\n"
     ]
    }
   ],
   "source": [
    "# Tabla de contingencia\n",
    "\n",
    "contingencia = pd.crosstab(df_reduc_ordenado['situacion_conyugal'], df_reduc_ordenado['edad'])\n",
    "chi2, p, dof, expected = chi2_contingency(contingencia)\n",
    "\n",
    "print(f\"Chi-cuadrado: {chi2:.8f}, p-valor: {p:.8f}\")"
   ]
  },
  {
   "cell_type": "markdown",
   "id": "fd72d791-bbcb-4f88-a5ce-66da5c40d578",
   "metadata": {},
   "source": [
    "**Se oberva que si el valor de xi2 es muy alto (es decir hay mucha discrepancia entre la frecuencia medida y la frecuencia esperada si fueran independientes)  y el valor de p <0.05 (menor que el nivel de significancia) se rechaza la hipótesis que aseguraba que no hay relación entre las variables 'veces presion alta' y 'situacion conyugal' Por lo tanto SI HAY RELACION ENTRE AMBAS.\n",
    "Los valores también indican que hay relación entre veces_presion_alta y edad 'edad' y esta relación es más significativa ya que tiene un valor xi2 mas alto que el anterior.\n",
    "Finalmente las variables 'situación conyugal' y 'edad' están fuertemente relacionadas.**"
   ]
  },
  {
   "cell_type": "markdown",
   "id": "50de63f3-453b-46eb-87e7-e2d761c44194",
   "metadata": {},
   "source": [
    "## ANOVA"
   ]
  },
  {
   "cell_type": "code",
   "execution_count": 10,
   "id": "c41d16f4-8e18-4290-9de7-e7dfa5d481fb",
   "metadata": {},
   "outputs": [
    {
     "name": "stdout",
     "output_type": "stream",
     "text": [
      "                          sum_sq       df            F    PR(>F)\n",
      "situacion_conyugal      2.799291      1.0     4.301933  0.038078\n",
      "edad                 1649.948532      1.0  2535.631326  0.000000\n",
      "Residual            19014.257140  29221.0          NaN       NaN\n"
     ]
    }
   ],
   "source": [
    "#modelo_anova = smf.ols('veces_presion_alta ~ edad', data = df_reduc_ordenado).fit()\n",
    "#print(modelo_anova.summary())\n",
    "\n",
    "import statsmodels.api as sm\n",
    "from statsmodels.formula.api import ols\n",
    "\n",
    "# Modelo ANOVA\n",
    "modelo_anova4 = ols('veces_presion_alta ~ (situacion_conyugal + edad)', data=df_reduc_ordenado).fit()\n",
    "\n",
    "# Resultados del ANOVA\n",
    "resultados_anova = sm.stats.anova_lm(modelo_anova4, typ=2)\n",
    "print(resultados_anova)"
   ]
  },
  {
   "cell_type": "markdown",
   "id": "d6f382c9-35b7-45c6-bfcd-1dd930ea5a69",
   "metadata": {},
   "source": [
    "**Dado que el valor p para la variable edad es mucho menor que el de situación conyugal, podemos afirmar que la variable EDAD es mas deterinante a la hora de establecer la probabilidad de veces presion alta**\n"
   ]
  },
  {
   "cell_type": "code",
   "execution_count": null,
   "id": "71b57c51-752a-4f60-a660-bc7686b6117d",
   "metadata": {},
   "outputs": [],
   "source": []
  },
  {
   "cell_type": "markdown",
   "id": "6248dc63-5f0d-4694-929d-44fe497911c9",
   "metadata": {},
   "source": [
    "\n",
    "# REGRESION LINEAL MACHINE LEARNING #"
   ]
  },
  {
   "cell_type": "code",
   "execution_count": 11,
   "id": "ed4fde27-a6a3-450a-a0e3-acd968484fdf",
   "metadata": {},
   "outputs": [],
   "source": [
    "from sklearn.model_selection import train_test_split\n",
    "from sklearn.linear_model import LinearRegression\n",
    "from sklearn.metrics import mean_squared_error, r2_score"
   ]
  },
  {
   "cell_type": "code",
   "execution_count": 12,
   "id": "bda3ec81-f8b9-4bfe-ac99-41a7329b3b91",
   "metadata": {},
   "outputs": [],
   "source": [
    "X_train, X_test, y_train, y_test = train_test_split(df_reduc_ordenado['edad'], df_reduc_ordenado['veces_presion_alta'], test_size=0.2, random_state=42)\n",
    "\n",
    "X_train_reshaped = X_train.values.reshape(-1, 1)\n",
    "X_test_reshaped = X_test.values.reshape(-1, 1)"
   ]
  },
  {
   "cell_type": "code",
   "execution_count": 13,
   "id": "60d5d49e-3882-423e-8a94-499960ef62f5",
   "metadata": {},
   "outputs": [],
   "source": [
    "modelo = LinearRegression()   #inicializo modelo regresion"
   ]
  },
  {
   "cell_type": "code",
   "execution_count": 14,
   "id": "25cd2b30-c7d1-4461-9506-22586f964ee7",
   "metadata": {},
   "outputs": [
    {
     "data": {
      "text/plain": [
       "LinearRegression()"
      ]
     },
     "execution_count": 14,
     "metadata": {},
     "output_type": "execute_result"
    }
   ],
   "source": [
    "# Entrenar el modelo con los datos de entrenamiento\n",
    "modelo.fit(X_train_reshaped, y_train)"
   ]
  },
  {
   "cell_type": "code",
   "execution_count": 15,
   "id": "735e6999-b384-4621-b763-da1e08eabd01",
   "metadata": {},
   "outputs": [],
   "source": [
    "# Predecir los valores de la variable dependiente en el conjunto de prueba\n",
    "y_pred = modelo.predict(X_test_reshaped)"
   ]
  },
  {
   "cell_type": "code",
   "execution_count": 16,
   "id": "98d3d0ec-a9e2-4bd0-91bd-2d60cbd07e12",
   "metadata": {},
   "outputs": [],
   "source": [
    "# Calcular métricas de rendimiento\n",
    "mse = mean_squared_error(y_test, y_pred)\n",
    "r2 = r2_score(y_test, y_pred)"
   ]
  },
  {
   "cell_type": "code",
   "execution_count": 17,
   "id": "ec462db6-b31c-4549-9687-3e4416e223f4",
   "metadata": {},
   "outputs": [
    {
     "name": "stdout",
     "output_type": "stream",
     "text": [
      "Coeficientes: [0.01709705]\n",
      "Intercepto: 0.817439254835253\n",
      "Error cuadrático medio (MSE): 0.6591129171603906\n",
      "Coeficiente de determinación (R^2): 0.11213262997911377\n"
     ]
    }
   ],
   "source": [
    "\n",
    "print(\"Coeficientes:\", modelo.coef_)\n",
    "print(\"Intercepto:\", modelo.intercept_)\n",
    "print(\"Error cuadrático medio (MSE):\", mse)\n",
    "print(\"Coeficiente de determinación (R^2):\", r2)"
   ]
  },
  {
   "cell_type": "code",
   "execution_count": 18,
   "id": "ec01c3f3-0557-466c-a5cb-75b5bb08ccc4",
   "metadata": {},
   "outputs": [
    {
     "data": {
      "image/png": "[encoded data removed]",
      "text/plain": [
       "<Figure size 640x480 with 1 Axes>"
      ]
     },
     "metadata": {},
     "output_type": "display_data"
    }
   ],
   "source": [
    "plt.scatter(X_test_reshaped, y_test, color='blue', label='Datos reales')\n",
    "\n",
    "plt.plot(X_test_reshaped, y_pred, color='red', linewidth=2, label='Regresión lineal')\n",
    "\n",
    "plt.xlabel('Edad')\n",
    "plt.ylabel('Veces que se ha tenido presión alta')\n",
    "plt.title('Regresión lineal de edad vs. veces que se ha tenido presión alta')\n",
    "plt.legend()\n",
    "plt.show()"
   ]
  },
  {
   "cell_type": "code",
   "execution_count": 19,
   "id": "f17dbbf9-f6c2-4c0d-a618-6ce4951d775b",
   "metadata": {},
   "outputs": [
    {
     "data": {
      "text/plain": [
       "<Figure size 1000x600 with 0 Axes>"
      ]
     },
     "metadata": {},
     "output_type": "display_data"
    },
    {
     "data": {
      "image/png": "[encoded data removed]",
      "text/plain": [
       "<Figure size 640x480 with 1 Axes>"
      ]
     },
     "metadata": {},
     "output_type": "display_data"
    }
   ],
   "source": [
    "df_visualizacion = pd.DataFrame({'Edad': X_test_reshaped.squeeze(), 'Veces_presion_Alta': y_test})\n",
    "\n",
    "df_visualizacion['Grupo_Edad'] = pd.cut(df_visualizacion['Edad'], bins=range(18, 101, 10), right=False) \n",
    "\n",
    "\n",
    "# Mapear los números a las categorías correspondientes\n",
    "mapeo_categorias = {1: 'ninguna', 2: 'solo 1 vez', 3: 'Mas de 1 vez', 4: 'NS/NC'}\n",
    "df_visualizacion['Veces_presion_Alta'] = df_visualizacion['Veces_presion_Alta'].map(mapeo_categorias)\n",
    "\n",
    "  \n",
    "# Calcular la frecuencia relativa de cada categoría de presión alta para cada grupo de edad\n",
    "tabla_frecuencias = df_visualizacion.groupby(['Grupo_Edad', 'Veces_presion_Alta']).size().unstack(fill_value=0)\n",
    "tabla_frecuencias = tabla_frecuencias.div(tabla_frecuencias.sum(axis=1), axis=0)\n",
    "\n",
    "\n",
    "# Crear un gráfico de barras\n",
    "plt.figure(figsize=(10, 6))\n",
    "tabla_frecuencias.plot(kind='bar', stacked=True, cmap='viridis')\n",
    "\n",
    "#sns.countplot(x='Grupo_Edad', hue='Veces_presion_Alta', data=df_visualizacion, palette='viridis')\n",
    "\n",
    "# Etiquetas y título\n",
    "plt.xlabel('Grupo Edad')\n",
    "plt.ylabel('Proporcion')\n",
    "plt.title('Proporcion de presión alta por edad')\n",
    "\n",
    "# Rotar las etiquetas del eje x para una mejor visualización\n",
    "plt.xticks(rotation=45)\n",
    "\n",
    "# Mostrar gráfico\n",
    "plt.legend(title='Veces presión alta')\n",
    "plt.tight_layout()\n",
    "plt.show()"
   ]
  },
  {
   "cell_type": "code",
   "execution_count": null,
   "id": "1de5efc2-a9ed-47cd-937b-e6fde35603cc",
   "metadata": {},
   "outputs": [],
   "source": []
  }
 ],
 "metadata": {
  "kernelspec": {
   "display_name": "Python 3",
   "language": "python",
   "name": "python3"
  },
  "language_info": {
   "codemirror_mode": {
    "name": "ipython",
    "version": 3
   },
   "file_extension": ".py",
   "mimetype": "text/x-python",
   "name": "python",
   "nbconvert_exporter": "python",
   "pygments_lexer": "ipython3",
   "version": "3.8.8"
  }
 },
 "nbformat": 4,
 "nbformat_minor": 5
}
