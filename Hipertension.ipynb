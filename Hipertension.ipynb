{
 "cells": [
  {
   "cell_type": "code",
   "execution_count": null,
   "id": "beba6d95-4d3b-41fc-9574-68c13a015fa6",
   "metadata": {},
   "outputs": [],
   "source": [
    "import numpy as np\n",
    "import pandas as pd\n",
    "import matplotlib.pyplot as plt\n",
    "import seaborn as sns\n",
    "from scipy import stats\n",
    "import sklearn as skl\n",
    "from sklearn.preprocessing import MinMaxScaler"
   ]
  },
  {
   "cell_type": "code",
   "execution_count": null,
   "id": "b2c52f1e-11a1-4daf-8908-c37cbf4a55ae",
   "metadata": {},
   "outputs": [],
   "source": [
    "friesgo_2018= pd.read_csv('Downloads/friesgo2018.txt', delimiter = '|')\n"
   ]
  },
  {
   "cell_type": "code",
   "execution_count": null,
   "id": "316766e8-5785-438b-9c0d-aae953993329",
   "metadata": {},
   "outputs": [],
   "source": []
  }
 ],
 "metadata": {
  "kernelspec": {
   "display_name": "Python 3",
   "language": "python",
   "name": "python3"
  },
  "language_info": {
   "name": ""
  }
 },
 "nbformat": 4,
 "nbformat_minor": 5
}
