{
 "cells": [
  {
   "cell_type": "markdown",
   "id": "36ec57e0-e1c8-426e-b42b-439b589bc3f2",
   "metadata": {},
   "source": [
    "# EN ESTA NOTEBOOK SE IMPLEMENTARÁ UN SVM (support vector machine) Y SE EVALUARÁN LOS RESULTADOS PARA EL PROYECTO\n"
   ]
  },
  {
   "cell_type": "code",
   "execution_count": 17,
   "id": "b416ef9a-519d-49a6-8288-bff8a5dea6a8",
   "metadata": {},
   "outputs": [],
   "source": [
    "#importamos librerías\n",
    "\n",
    "import numpy as np\n",
    "import matplotlib.pyplot as plt\n",
    "import pandas as pd\n",
    "\n",
    "\n",
    "from sklearn.model_selection import train_test_split\n",
    "from sklearn.svm import SVC\n",
    "from sklearn.metrics import accuracy_score , precision_score, recall_score, f1_score, confusion_matrix \n",
    "from sklearn.utils import shuffle"
   ]
  },
  {
   "cell_type": "code",
   "execution_count": 18,
   "id": "480a5ebc-e991-4de4-870d-ee274d090bed",
   "metadata": {},
   "outputs": [],
   "source": [
    "# IMPORTACIÓN DEL DATASET REDUCIDO LUEGO DEL PROCESAMIENTO DE COLUMNAS\n",
    "\n",
    "df = pd.read_csv('friesgo_2018_reduc.csv',  sep=',', encoding='utf-8')"
   ]
  },
  {
   "cell_type": "code",
   "execution_count": 19,
   "id": "b22e613d-75e4-4a65-b45d-e5b20d2a6028",
   "metadata": {},
   "outputs": [
    {
     "name": "stdout",
     "output_type": "stream",
     "text": [
      "       dijeron_diabetes  veces_presion_alta  colesterol_alto\n",
      "0                     2                   3                2\n",
      "1                     2                   3                1\n",
      "2                     2                   3                2\n",
      "3                     2                   3                1\n",
      "4                     2                   3                2\n",
      "...                 ...                 ...              ...\n",
      "25632                 2                   3                2\n",
      "25633                 2                   2                1\n",
      "25634                 2                   2                1\n",
      "25635                 1                   3                2\n",
      "25636                 1                   2                2\n",
      "\n",
      "[25637 rows x 3 columns]\n"
     ]
    }
   ],
   "source": [
    "#muevo columnas de variables dependiendtes (enfermedades) al final\n",
    "\n",
    "columnas_alFinal = [ 'dijeron_diabetes','veces_presion_alta', 'colesterol_alto']\n",
    "\n",
    "df = df[[col for col in df if col not in columnas_alFinal] + columnas_alFinal]\n",
    "\n",
    "print (df.iloc[:,-3:]) "
   ]
  },
  {
   "cell_type": "code",
   "execution_count": 20,
   "id": "fbf4176c-37f7-4f0b-9dc2-e84be6eb5694",
   "metadata": {},
   "outputs": [
    {
     "name": "stdout",
     "output_type": "stream",
     "text": [
      "[1 2 3 4 5 6]\n"
     ]
    }
   ],
   "source": [
    "# Lista de las regiones que se encuentran en el dataset\n",
    "\n",
    "regiones = df['region'].unique()\n",
    "print(regiones)"
   ]
  },
  {
   "cell_type": "code",
   "execution_count": 21,
   "id": "3add1d30-d786-4563-8045-7a27b7d6bf8d",
   "metadata": {},
   "outputs": [],
   "source": [
    "# Crear un diccionario para almacenar los DataFrames por región\n",
    "\n",
    "dfs_por_region = {}"
   ]
  },
  {
   "cell_type": "code",
   "execution_count": 22,
   "id": "40d500b5-37e5-4253-b8ef-4699fcd05059",
   "metadata": {},
   "outputs": [],
   "source": [
    "# Iterar sobre cada región y guardar un nuevo DF por cada una\n",
    "\n",
    "for region in regiones:\n",
    "    # Filtrar los datos por la región actual\n",
    "    df_region = df[df['region'] == region]\n",
    "    # Guardar el DataFrame en el diccionario usando la región como clave\n",
    "    dfs_por_region[region] = df_region"
   ]
  },
  {
   "cell_type": "code",
   "execution_count": 23,
   "id": "40e3614a-fe56-44c4-9d23-5864028ecedb",
   "metadata": {},
   "outputs": [],
   "source": [
    "\n",
    "#funcion para calcular metricas por cada región y para cada enfermedad\n",
    "\n",
    "def metricas(y_pred, y_test, enfermedad, region_actual):\n",
    "        global resultados_por_region\n",
    "        exactitud = accuracy_score(y_test, y_pred)\n",
    "        precision = precision_score(y_test, y_pred, average='weighted', zero_division=0)\n",
    "        sensibilidad = recall_score(y_test, y_pred, average='weighted')\n",
    "        f1 = f1_score(y_test, y_pred, average='weighted')\n",
    "        confusion = confusion_matrix(y_test, y_pred)\n",
    "\n",
    "        # Inicializar las claves si no existen\n",
    "        if enfermedad not in resultados_por_region:\n",
    "            resultados_por_region[enfermedad] = {}\n",
    "        if region_actual not in result_dict[enfermedad]:\n",
    "            resultados_por_region[enfermedad][region_actual] = {}\n",
    "        \n",
    "        \n",
    "        resultados_por_region[enfermedad][region_actual]={\n",
    "            'exactitud':exactitud,\n",
    "            'precision':precision,\n",
    "            'sensibilidad':sensibilidad,\n",
    "            'f1': f1,\n",
    "            'confusion': confusion\n",
    "        }\n",
    "        \n",
    "        \n",
    "        "
   ]
  },
  {
   "cell_type": "code",
   "execution_count": null,
   "id": "aae954b1-537e-4405-a258-95e533fc7a10",
   "metadata": {},
   "outputs": [],
   "source": [
    "# Crear diccionarios para almacenar modelos y resultados por región\n",
    "modelos_por_region = {}\n",
    "resultados_por_region = {}\n",
    "importancia_por_region = {}\n",
    "\n",
    "\n",
    "\n",
    "# Iterar sobre cada región para entrenar y evaluar modelos\n",
    "for region in regiones:\n",
    "    # Obtener el DataFrame de la región actual\n",
    "    df_region = dfs_por_region[region]\n",
    "    \n",
    "    # Variables independientes\n",
    "    X_region = df_region.iloc[:, 1:-3]  # Todas las columnas menos las últimas tres y la primera (id)\n",
    "    \n",
    "    # Variables dependientes\n",
    "    y_region_colesterol = df_region['colesterol_alto']\n",
    "    y_region_diabetes = df_region['dijeron_diabetes']\n",
    "    y_region_hipertension = df_region['veces_presion_alta']\n",
    "\n",
    "    # Dividir los datos en conjuntos de entrenamiento y prueba para cada enfermedad\n",
    "    X_train_col, X_test_col, y_train_col, y_test_col = train_test_split(X_region, y_region_colesterol, test_size=0.25, random_state=0)\n",
    "    X_train_dia, X_test_dia, y_train_dia, y_test_dia = train_test_split(X_region, y_region_diabetes, test_size=0.25, random_state=0)\n",
    "    X_train_hip, X_test_hip, y_train_hip, y_test_hip = train_test_split(X_region, y_region_hipertension, test_size=0.25, random_state=0)\n",
    "    \n",
    "    # Crear y entrenar el modelo SVM para cada enfermedad\n",
    "    clf_col = SVC(kernel = 'linear', random_state=0)\n",
    "    clf_col.fit(X_train_col, y_train_col)\n",
    "    print(\"terminada colesterol\")\n",
    "    \n",
    "    clf_dia = SVC(kernel = 'linear', random_state=0)\n",
    "    clf_dia.fit(X_train_dia, y_train_dia)\n",
    "    print(\"terminada diabetes\")\n",
    "    \n",
    "    clf_hip = SVC(kernel = 'linear', random_state=0)\n",
    "    clf_hip.fit(X_train_hip, y_train_hip)\n",
    "    print(\"terminada hipertension\")\n",
    "\n",
    "  \n",
    "    # Almacenar los modelos y sus resultados por región\n",
    "    modelos_por_region[region] = {\n",
    "        'colesterol': clf_col,\n",
    "        'diabetes': clf_dia,\n",
    "        'hipertension': clf_hip\n",
    "    }\n",
    "\n",
    "         \n",
    "    #importancia de cada columna en el modelo entrenado\n",
    "    #importances_col = clf_col.feature_importances_\n",
    "    #importances_dia = clf_dia.feature_importances_\n",
    "    #importances_hip = clf_hip.feature_importances_\n",
    "    \n",
    "    #importancia_por_region[region]={\n",
    "    #    'colesterol': importances_col,\n",
    "    #    'diabetes': importances_dia,\n",
    "    #    'hipertension': importances_hip  \n",
    "    #}\n",
    "      \n",
    "        \n",
    "    # Probar modelo con conjunto de prueba\n",
    "    y_pred_col = clf_col.predict(X_test_col)\n",
    "    y_pred_dia = clf_dia.predict(X_test_dia)\n",
    "    y_pred_hip = clf_hip.predict(X_test_hip)\n",
    "    \n",
    "    print(\"terminadas probar modelo con conjunto de prueba\")\n",
    "    \n",
    "    \n",
    "    ## METRICAS DE EVALUACIÓN   ##############33\n",
    "    metricas(y_pred_col, y_test_col, 'colesterol', region)\n",
    "    metricas(y_pred_dia, y_test_dia, 'diabetes', region)\n",
    "    metricas(y_pred_hip, y_test_hip, 'hipertension', region)\n",
    "    print(\"terminadas metricas de evaluación\")\n",
    "    \n",
    "print(\"finalizado\")"
   ]
  },
  {
   "cell_type": "markdown",
   "id": "f514e268-d08b-4b44-b394-326296ca2b85",
   "metadata": {},
   "source": [
    "  ## CÁLCULOS DE EXACTITUD, PRECISIÓN, SENSIBILIDAD, F1-Score Y MATRIZ DE CONFUSIÓN POR CADA ENFERMEDAD Y POR CADA REGIÓN "
   ]
  },
  {
   "cell_type": "code",
   "execution_count": null,
   "id": "5799114c-8532-4fb7-b8f7-48677efa100d",
   "metadata": {},
   "outputs": [],
   "source": [
    "region_dict = {\n",
    "    1: 'Metropolitana',\n",
    "    2: 'Pampeana',\n",
    "    3: 'Noroeste',\n",
    "    4: 'Noreste',\n",
    "    5: 'Cuyo',\n",
    "    6: 'Patagónica'\n",
    "}\n"
   ]
  },
  {
   "cell_type": "code",
   "execution_count": null,
   "id": "de2e5198-3b28-471f-9112-0e28dcc4652e",
   "metadata": {},
   "outputs": [],
   "source": [
    "# Mostrar los resultados por enfermedad y por región\n",
    "\n",
    "for enfermedad, regiones in resultados_por_region.items():\n",
    "    for region, resultados in regiones.items():\n",
    "\n",
    "        nombre_region = resultados_por_region.get(region, f\"Región {region}\")\n",
    "        print(f\"Enfermedad: {enfermedad}\")\n",
    "        print(f\"Región: {nombre_region}\")\n",
    "        print(f\"Exactitud del modelo: {resultados['exactitud']:.4f}\")\n",
    "        print(f\"Precision del modelo: {resultados['precision']:.4f}\")\n",
    "        print(f\"Sensibilidad del modelo: {resultados['sensibilidad']:.4f}\")\n",
    "        print(f\"f1 del modelo: {resultados['f1']:.4f}\")\n",
    "        print(f\"Matriz de confusion del modelo: \\n{resultados['confusion']}\\n\")\n"
   ]
  },
  {
   "cell_type": "markdown",
   "id": "a516c0a4-dc0c-4b84-8655-e78659411ff3",
   "metadata": {},
   "source": [
    "## Conclusiones de análisis de los modelos:\n",
    "\n",
    "<u>RESPECTO A COLESTEROL<u>\n",
    "\n",
    "    \n",
    "<u>RESPECTO A DIABETES<u>\n",
    "\n",
    "\n",
    "<u>RESPECTO A HIPERTENSIÓN<u>\n"
   ]
  },
  {
   "cell_type": "code",
   "execution_count": null,
   "id": "51981670-29b3-403b-ac1a-6d250d6b10b8",
   "metadata": {},
   "outputs": [],
   "source": []
  },
  {
   "cell_type": "markdown",
   "id": "339f3115-ac43-484a-b7bb-c5d4f224b753",
   "metadata": {},
   "source": [
    " ## CALCULOS DE LA IMPORTANCIA DE CADA CARACTERÍSTICA ANALIZADA (VARIABLES INDEPENDIENTES) EN EL MODELO QUE PERMITE DETERMINAR LA EXISTENCIA O NO DE LAS ENFERMEDADES CONSIDERADAS (COLESTEROL, DIABETES E HIPERTENSIÓN) "
   ]
  },
  {
   "cell_type": "markdown",
   "id": "8892c4e4-82b4-4711-9b7d-3c0de76278b5",
   "metadata": {},
   "source": [
    "### CARACTERÍSTICAS MÁS IMPORTANTES EN LA DETERMINACIÓN DEL COLESTEROL SEPARADAS POR REGIÓN"
   ]
  },
  {
   "cell_type": "code",
   "execution_count": null,
   "id": "ef93a8e7-6fc8-4a26-9b7c-d7866c164a25",
   "metadata": {},
   "outputs": [],
   "source": [
    "\n",
    "# Crear un DataFrame vacío para almacenar las importancias\n",
    "importancias_colesterol_df = pd.DataFrame(columns=['Region', 'Variable', 'Importancia'])\n",
    "\n",
    "\n",
    "for region, importancias in importancia_por_region.items():\n",
    "    # Obtener la importancia de colesterol de la región actual\n",
    "    importances_col = importancias['colesterol']\n",
    "    \n",
    "    # Obtener el DataFrame de la región actual para obtener los nombres de las columnas\n",
    "    df_region = dfs_por_region[region]\n",
    "    X_region = df_region.iloc[:, 1:-3]\n",
    "    columnas_originales = X_region.columns\n",
    "    \n",
    "    # Ordenar los índices de las importancias de mayor a menor\n",
    "    indices_ordenados = np.argsort(importances_col)[::-1]\n",
    "    \n",
    "    # Obtener el nombre de la región\n",
    "    nombre_region = region_dict.get(region, f\"Región {region}\")\n",
    "    \n",
    "    # Imprimir los resultados\n",
    "    print(f\"Región: {nombre_region}\")\n",
    "    for i in indices_ordenados:\n",
    "        if importances_col[i] > 0.03:  # solo imprimo columnas con importancia mayor a 0\n",
    "                                 \n",
    "            print(f\"{columnas_originales[i]}: {importances_col[i]:.4f}\")\n",
    "            \n",
    "            importancias_colesterol_df = importancias_colesterol_df.append({\n",
    "                'Region': nombre_region,\n",
    "                'Variable': columnas_originales[i],\n",
    "                'Importancia': importances_col[i]     \n",
    "            }, ignore_index=True)\n",
    "            \n",
    "    print(\"\\n\")    \n",
    "    \n",
    "    "
   ]
  },
  {
   "cell_type": "code",
   "execution_count": null,
   "id": "c87d84ff-4013-48d0-b534-6a2122f55efa",
   "metadata": {},
   "outputs": [],
   "source": [
    "\n",
    "plt.figure(figsize=(12, 8))\n",
    "sns.barplot(x='Importancia', y='Variable', hue='Region', data=importancias_colesterol_df)\n",
    "plt.title('Importancia de las Variables por Región (Colesterol)')\n",
    "plt.show()"
   ]
  },
  {
   "cell_type": "markdown",
   "id": "da26f5fc-c18a-4120-b4ad-f8db19823e81",
   "metadata": {},
   "source": [
    "### Conclusiones: \n",
    "\n"
   ]
  },
  {
   "cell_type": "code",
   "execution_count": null,
   "id": "eb251af9-e12d-4847-acb1-55e04df05860",
   "metadata": {},
   "outputs": [],
   "source": []
  },
  {
   "cell_type": "markdown",
   "id": "cf44c1ec-541e-4f2e-92b4-5a608cf26dbc",
   "metadata": {},
   "source": [
    "### CARACTERÍSTICAS MÁS IMPORTANTES EN LA DETERMINACIÓN DE LA HIPERTENSIÓN SEPARADAS POR REGIÓN"
   ]
  },
  {
   "cell_type": "code",
   "execution_count": null,
   "id": "c086e662-273c-4935-82fa-5e56d3920b46",
   "metadata": {},
   "outputs": [],
   "source": [
    "\n",
    "# Crear un DataFrame vacío para almacenar las importancias\n",
    "importancias_hipertension_df = pd.DataFrame(columns=['Region', 'Variable', 'Importancia'])\n",
    "\n",
    "\n",
    "for region, importancias in importancia_por_region.items():\n",
    "    # Obtener la importancia de colesterol de la región actual\n",
    "    importances_hip = importancias['hipertension']\n",
    "    \n",
    "    # Obtener el DataFrame de la región actual para obtener los nombres de las columnas\n",
    "    df_region = dfs_por_region[region]\n",
    "    X_region = df_region.iloc[:, 1:-3]\n",
    "    columnas_originales = X_region.columns\n",
    "    \n",
    "    # Ordenar los índices de las importancias de mayor a menor\n",
    "    indices_ordenados = np.argsort(importances_hip)[::-1]\n",
    "    \n",
    "    # Obtener el nombre de la región\n",
    "    nombre_region = region_dict.get(region, f\"Región {region}\")\n",
    "    \n",
    "    # Imprimir los resultados\n",
    "    print(f\"Región: {nombre_region}\")\n",
    "    for i in indices_ordenados:\n",
    "        if importances_hip[i] > 0.025:  # solo imprimo columnas con importancia mayor a 0\n",
    "                    \n",
    "            print(f\"{columnas_originales[i]}: {importances_hip[i]:.4f}\")\n",
    "            \n",
    "            importancias_hipertension_df = importancias_hipertension_df.append({\n",
    "                'Region': nombre_region,\n",
    "                'Variable': columnas_originales[i],\n",
    "                'Importancia': importances_hip[i]     \n",
    "            }, ignore_index=True)\n",
    "            \n",
    "    print(\"\\n\") \n"
   ]
  },
  {
   "cell_type": "code",
   "execution_count": null,
   "id": "a6c32ad5-93a5-4ece-8dad-875b341729f7",
   "metadata": {},
   "outputs": [],
   "source": [
    "\n",
    "plt.figure(figsize=(12, 8))\n",
    "sns.barplot(x='Importancia', y='Variable', hue='Region', data=importancias_hipertension_df)\n",
    "plt.title('Importancia de las Variables por Región (Hipertensión)')\n",
    "plt.show()"
   ]
  },
  {
   "cell_type": "markdown",
   "id": "3c5b3282-b8ac-4bc2-862d-2f794831464f",
   "metadata": {},
   "source": [
    "### Conclusiones causas Hipertensión"
   ]
  },
  {
   "cell_type": "code",
   "execution_count": null,
   "id": "5a83389e-bc62-4260-a0cd-485c47e8f2ab",
   "metadata": {},
   "outputs": [],
   "source": []
  },
  {
   "cell_type": "markdown",
   "id": "15489f09-e05d-4403-9718-8ba810cbfad3",
   "metadata": {},
   "source": [
    "### CARACTERÍSTICAS MÁS IMPORTANTES EN LA DETERMINACIÓN DE LA DIABETES SEPARADAS POR REGIÓN"
   ]
  },
  {
   "cell_type": "code",
   "execution_count": null,
   "id": "f0ddb3a4-8bfc-4356-97fd-d028421722b2",
   "metadata": {},
   "outputs": [],
   "source": [
    "\n",
    "# Crear un DataFrame vacío para almacenar las importancias\n",
    "importancias_diabetes_df = pd.DataFrame(columns=['Region', 'Variable', 'Importancia'])\n",
    "\n",
    "for region, importancias in importancia_por_region.items():\n",
    "    # Obtener la importancia de colesterol de la región actual\n",
    "    importances_dia = importancias['diabetes']\n",
    "    \n",
    "    # Obtener el DataFrame de la región actual para obtener los nombres de las columnas\n",
    "    df_region = dfs_por_region[region]\n",
    "    X_region = df_region.iloc[:, 1:-3]\n",
    "    columnas_originales = X_region.columns\n",
    "    \n",
    "    # Ordenar los índices de las importancias de mayor a menor\n",
    "    indices_ordenados = np.argsort(importances_dia)[::-1]\n",
    "    \n",
    "    # Obtener el nombre de la región\n",
    "    nombre_region = region_dict.get(region, f\"Región {region}\")\n",
    "    \n",
    "   \n",
    "    \n",
    "    # Imprimir los resultados\n",
    "    print(f\"Región: {nombre_region}\")\n",
    "    for i in indices_ordenados:\n",
    "        if importances_dia[i] > 0.04:  # solo imprimo columnas con importancia mayor a 0\n",
    "            print(f\"{columnas_originales[i]}: {importances_dia[i]:.4f}\")\n",
    "            \n",
    "            importancias_diabetes_df = importancias_diabetes_df.append({\n",
    "                'Region': nombre_region,\n",
    "                'Variable': columnas_originales[i],\n",
    "                'Importancia': importances_dia[i]     \n",
    "            }, ignore_index=True)\n",
    "    print(\"\\n\")\n"
   ]
  },
  {
   "cell_type": "code",
   "execution_count": null,
   "id": "708e4cb9-a014-457b-86aa-649ed8bffa23",
   "metadata": {},
   "outputs": [],
   "source": [
    "\n",
    "plt.figure(figsize=(12, 8))\n",
    "sns.barplot(x='Importancia', y='Variable', hue='Region', data=importancias_diabetes_df)\n",
    "plt.title('Importancia de las Variables por Región (Diabetes)')\n",
    "plt.show()"
   ]
  },
  {
   "cell_type": "markdown",
   "id": "b64f01d2-f801-4423-add5-55a1f0f0d90d",
   "metadata": {},
   "source": [
    "### Conclusiones causas Diabetes:\n"
   ]
  },
  {
   "cell_type": "code",
   "execution_count": null,
   "id": "62ec4f27-1415-4aea-a8c6-7d34b2b20de2",
   "metadata": {},
   "outputs": [],
   "source": []
  },
  {
   "cell_type": "code",
   "execution_count": null,
   "id": "a9e8fe50-04c6-463b-beb2-3cca163bcf50",
   "metadata": {},
   "outputs": [],
   "source": []
  },
  {
   "cell_type": "code",
   "execution_count": null,
   "id": "f1473819-aed9-44ff-af5c-97ca7a1ee983",
   "metadata": {},
   "outputs": [],
   "source": []
  },
  {
   "cell_type": "code",
   "execution_count": null,
   "id": "c35db7ac-6f7c-4998-9ce6-c27f78c99a3c",
   "metadata": {},
   "outputs": [],
   "source": []
  },
  {
   "cell_type": "code",
   "execution_count": null,
   "id": "77176353-b784-401a-a14c-48fe789a2d5c",
   "metadata": {},
   "outputs": [],
   "source": []
  }
 ],
 "metadata": {
  "kernelspec": {
   "display_name": "Python 3",
   "language": "python",
   "name": "python3"
  },
  "language_info": {
   "codemirror_mode": {
    "name": "ipython",
    "version": 3
   },
   "file_extension": ".py",
   "mimetype": "text/x-python",
   "name": "python",
   "nbconvert_exporter": "python",
   "pygments_lexer": "ipython3",
   "version": "3.8.8"
  }
 },
 "nbformat": 4,
 "nbformat_minor": 5
}
