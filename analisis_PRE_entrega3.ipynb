{
 "cells": [
  {
   "cell_type": "code",
   "execution_count": 63,
   "id": "c5f0c80b-b3b5-4033-b10a-f41fc888d223",
   "metadata": {},
   "outputs": [],
   "source": [
    "#importanción de librerías a utilizar\n",
    "\n",
    "import numpy as np\n",
    "import pandas as pd\n",
    "pd.options.mode.chained_assignment = None  # default='warn'\n",
    "import matplotlib.pyplot as plt\n",
    "import seaborn as sns\n",
    "from scipy import stats\n",
    "import sklearn as skl\n",
    "from sklearn.preprocessing import MinMaxScaler\n",
    "from colorama import init, Fore, Style"
   ]
  },
  {
   "cell_type": "code",
   "execution_count": 64,
   "id": "94799858-771a-471f-aef4-e2d24b3650e2",
   "metadata": {},
   "outputs": [
    {
     "data": {
      "text/html": [
       "<div>\n",
       "<style scoped>\n",
       "    .dataframe tbody tr th:only-of-type {\n",
       "        vertical-align: middle;\n",
       "    }\n",
       "\n",
       "    .dataframe tbody tr th {\n",
       "        vertical-align: top;\n",
       "    }\n",
       "\n",
       "    .dataframe thead th {\n",
       "        text-align: right;\n",
       "    }\n",
       "</style>\n",
       "<table border=\"1\" class=\"dataframe\">\n",
       "  <thead>\n",
       "    <tr style=\"text-align: right;\">\n",
       "      <th></th>\n",
       "      <th>id</th>\n",
       "      <th>region</th>\n",
       "      <th>tamanio_aglomerado</th>\n",
       "      <th>localidades_150</th>\n",
       "      <th>tipo_vivienda</th>\n",
       "      <th>obtiene_gas</th>\n",
       "      <th>obtiene_agua</th>\n",
       "      <th>baño</th>\n",
       "      <th>cant_componentes</th>\n",
       "      <th>tipo_hogar</th>\n",
       "      <th>...</th>\n",
       "      <th>colesterol_alto</th>\n",
       "      <th>prevalencia_colesterol</th>\n",
       "      <th>consumido_alcohol</th>\n",
       "      <th>consumo_regular_riesgo</th>\n",
       "      <th>dijeron_diabetes</th>\n",
       "      <th>fue_embarazo</th>\n",
       "      <th>familiares_directos_diabetes</th>\n",
       "      <th>familiares_no_directos_diabetes</th>\n",
       "      <th>medicion_azucar</th>\n",
       "      <th>control_diabetes</th>\n",
       "    </tr>\n",
       "  </thead>\n",
       "  <tbody>\n",
       "    <tr>\n",
       "      <th>0</th>\n",
       "      <td>1128639</td>\n",
       "      <td>1</td>\n",
       "      <td>1</td>\n",
       "      <td>1</td>\n",
       "      <td>3</td>\n",
       "      <td>1</td>\n",
       "      <td>1</td>\n",
       "      <td>1</td>\n",
       "      <td>2</td>\n",
       "      <td>2</td>\n",
       "      <td>...</td>\n",
       "      <td>2</td>\n",
       "      <td>2.0</td>\n",
       "      <td>1</td>\n",
       "      <td>2.0</td>\n",
       "      <td>2</td>\n",
       "      <td>NaN</td>\n",
       "      <td>2</td>\n",
       "      <td>2</td>\n",
       "      <td>2</td>\n",
       "      <td>1</td>\n",
       "    </tr>\n",
       "    <tr>\n",
       "      <th>1</th>\n",
       "      <td>1709939</td>\n",
       "      <td>1</td>\n",
       "      <td>1</td>\n",
       "      <td>1</td>\n",
       "      <td>1</td>\n",
       "      <td>1</td>\n",
       "      <td>1</td>\n",
       "      <td>1</td>\n",
       "      <td>3</td>\n",
       "      <td>4</td>\n",
       "      <td>...</td>\n",
       "      <td>1</td>\n",
       "      <td>1.0</td>\n",
       "      <td>1</td>\n",
       "      <td>2.0</td>\n",
       "      <td>2</td>\n",
       "      <td>NaN</td>\n",
       "      <td>2</td>\n",
       "      <td>2</td>\n",
       "      <td>1</td>\n",
       "      <td>1</td>\n",
       "    </tr>\n",
       "    <tr>\n",
       "      <th>2</th>\n",
       "      <td>6874130</td>\n",
       "      <td>1</td>\n",
       "      <td>1</td>\n",
       "      <td>1</td>\n",
       "      <td>3</td>\n",
       "      <td>1</td>\n",
       "      <td>1</td>\n",
       "      <td>1</td>\n",
       "      <td>2</td>\n",
       "      <td>2</td>\n",
       "      <td>...</td>\n",
       "      <td>2</td>\n",
       "      <td>2.0</td>\n",
       "      <td>1</td>\n",
       "      <td>2.0</td>\n",
       "      <td>2</td>\n",
       "      <td>NaN</td>\n",
       "      <td>2</td>\n",
       "      <td>2</td>\n",
       "      <td>2</td>\n",
       "      <td>1</td>\n",
       "    </tr>\n",
       "    <tr>\n",
       "      <th>3</th>\n",
       "      <td>10319375</td>\n",
       "      <td>1</td>\n",
       "      <td>1</td>\n",
       "      <td>1</td>\n",
       "      <td>3</td>\n",
       "      <td>4</td>\n",
       "      <td>1</td>\n",
       "      <td>1</td>\n",
       "      <td>1</td>\n",
       "      <td>1</td>\n",
       "      <td>...</td>\n",
       "      <td>1</td>\n",
       "      <td>1.0</td>\n",
       "      <td>1</td>\n",
       "      <td>2.0</td>\n",
       "      <td>2</td>\n",
       "      <td>NaN</td>\n",
       "      <td>2</td>\n",
       "      <td>1</td>\n",
       "      <td>2</td>\n",
       "      <td>1</td>\n",
       "    </tr>\n",
       "    <tr>\n",
       "      <th>4</th>\n",
       "      <td>11140857</td>\n",
       "      <td>1</td>\n",
       "      <td>1</td>\n",
       "      <td>1</td>\n",
       "      <td>3</td>\n",
       "      <td>1</td>\n",
       "      <td>1</td>\n",
       "      <td>1</td>\n",
       "      <td>2</td>\n",
       "      <td>8</td>\n",
       "      <td>...</td>\n",
       "      <td>2</td>\n",
       "      <td>2.0</td>\n",
       "      <td>1</td>\n",
       "      <td>2.0</td>\n",
       "      <td>2</td>\n",
       "      <td>NaN</td>\n",
       "      <td>2</td>\n",
       "      <td>99</td>\n",
       "      <td>1</td>\n",
       "      <td>1</td>\n",
       "    </tr>\n",
       "  </tbody>\n",
       "</table>\n",
       "<p>5 rows × 74 columns</p>\n",
       "</div>"
      ],
      "text/plain": [
       "         id  region  tamanio_aglomerado  localidades_150  tipo_vivienda  \\\n",
       "0   1128639       1                   1                1              3   \n",
       "1   1709939       1                   1                1              1   \n",
       "2   6874130       1                   1                1              3   \n",
       "3  10319375       1                   1                1              3   \n",
       "4  11140857       1                   1                1              3   \n",
       "\n",
       "   obtiene_gas  obtiene_agua  baño  cant_componentes  tipo_hogar  ...  \\\n",
       "0            1             1     1                 2           2  ...   \n",
       "1            1             1     1                 3           4  ...   \n",
       "2            1             1     1                 2           2  ...   \n",
       "3            4             1     1                 1           1  ...   \n",
       "4            1             1     1                 2           8  ...   \n",
       "\n",
       "   colesterol_alto  prevalencia_colesterol  consumido_alcohol  \\\n",
       "0                2                     2.0                  1   \n",
       "1                1                     1.0                  1   \n",
       "2                2                     2.0                  1   \n",
       "3                1                     1.0                  1   \n",
       "4                2                     2.0                  1   \n",
       "\n",
       "   consumo_regular_riesgo  dijeron_diabetes  fue_embarazo  \\\n",
       "0                     2.0                 2           NaN   \n",
       "1                     2.0                 2           NaN   \n",
       "2                     2.0                 2           NaN   \n",
       "3                     2.0                 2           NaN   \n",
       "4                     2.0                 2           NaN   \n",
       "\n",
       "   familiares_directos_diabetes  familiares_no_directos_diabetes  \\\n",
       "0                             2                                2   \n",
       "1                             2                                2   \n",
       "2                             2                                2   \n",
       "3                             2                                1   \n",
       "4                             2                               99   \n",
       "\n",
       "   medicion_azucar  control_diabetes  \n",
       "0                2                 1  \n",
       "1                1                 1  \n",
       "2                2                 1  \n",
       "3                2                 1  \n",
       "4                1                 1  \n",
       "\n",
       "[5 rows x 74 columns]"
      ]
     },
     "execution_count": 64,
     "metadata": {},
     "output_type": "execute_result"
    }
   ],
   "source": [
    "# IMPORTACIÓN DEL DATASET REDUCIDO\n",
    "\n",
    "df = pd.read_csv('friesgo_2018_reduc.csv',  sep=',', encoding='utf-8')\n",
    "\n",
    "df.head(5)"
   ]
  },
  {
   "cell_type": "markdown",
   "id": "fc1fb7cd-0689-4aee-afd3-2b67eb7259d5",
   "metadata": {},
   "source": [
    "# ANÁLISIS PREVIOS\n",
    "\n",
    "Como se detalla en el README, el objetivo del siguiente análisis es determinar las disparidades regionales dentro de Argentina en la ocurrencia de enfermedades no transmisibles (en particular aquellas relacionadas con el estilo de vida: diabetes, hipertensión y colesterol), para mayor sencillez las denominaremos ENT (enfermedades No transmisibles). Se analizarán disparidades regionales y a partir de esto, las causas de las mismas.   \n",
    "\n",
    "Realizaremos una división general para determinar las variables que se considerarán \"posibles causas\" y las variables que consideramos \"consecuencias\". Las consecuencias hace referencia a la aparición de enfermedades\n",
    "\n",
    "### Variables consideradas CAUSAS\n",
    "\n",
    "1. caracteristicas_vivienda\n",
    "2. caracteristicas_hogar\n",
    "3. ingresos_hogar\n",
    "4. caracteristicas_encuestado\n",
    "5. salud_y_af\n",
    "6. tabaquismo\n",
    "7. pesocorporal\n",
    "8. alimentacion\n",
    "9. consumo_alcohol\n",
    "\n",
    "### Variables consideradas CONSECUENCIAS\n",
    "\n",
    "1. hipertension\n",
    "2. colesterlo\n",
    "3. diabetes\n",
    "\n",
    "### Variables ordenadora\n",
    "\n",
    "El dominio_geografico, y en particular la columna \"region\" determinarán la división\n"
   ]
  },
  {
   "cell_type": "markdown",
   "id": "758768bd-00a9-47bc-9411-151b1d62596e",
   "metadata": {},
   "source": [
    "# ANÁLISIS DE OCURRENCIA DE LAS ENT POR REGIÓN\n",
    "\n"
   ]
  },
  {
   "cell_type": "markdown",
   "id": "b0cd2bd9-db3c-46b9-8f12-a394d6878f79",
   "metadata": {},
   "source": [
    "## COLESTEROL EN FUNCIÓN DE REGIÓN"
   ]
  },
  {
   "cell_type": "code",
   "execution_count": 65,
   "id": "a59c31d8-4cbd-40a8-b05c-0abf3bf9a6bc",
   "metadata": {},
   "outputs": [
    {
     "name": "stdout",
     "output_type": "stream",
     "text": [
      "region\n",
      "1     894\n",
      "2    2033\n",
      "3    1174\n",
      "4     785\n",
      "5     622\n",
      "6     875\n",
      "Name: colesterol_alto, dtype: int64\n",
      "region\n",
      "1     5252\n",
      "2    14340\n",
      "3     8410\n",
      "4     6816\n",
      "5     3848\n",
      "6     6178\n",
      "Name: colesterol_alto, dtype: int64\n"
     ]
    }
   ],
   "source": [
    "#Realizaremos un BOXPLOT para este análisis\n",
    "\n",
    "#usaremos la variable \"region\" y la variable \"colesterol_alto\". Calcularemos porcentaje de colesterol alto en cada region. El porcentaje se calcula como cantidad de '1' respecto al total de '2'\n",
    "\n",
    "#agrupamos para poder calcular porcentajes de cada situación (NO solo conteo)\n",
    "\n",
    "\n",
    "\n",
    "###########################################################3\n",
    "\n",
    "colesterol_si = df[df['colesterol_alto']==1]   #filtro solo valores 1 que corresponde a colesterol alto\n",
    "colesterol_no = df[df['colesterol_alto']==2]    #filtro solo valores 2 que corresponde a colesterol normal\n",
    "\n",
    "suma_colesterol_si = colesterol_si.groupby('region')['colesterol_alto'].sum()     #sumo total\n",
    "\n",
    "suma_colesterol_no = colesterol_no.groupby('region')['colesterol_alto'].sum()     #sumo total\n",
    "\n",
    "print(suma_colesterol_si)\n",
    "print(suma_colesterol_no)"
   ]
  },
  {
   "cell_type": "code",
   "execution_count": 66,
   "id": "2f0f83b4-4945-4fe6-95c8-17fc25028d46",
   "metadata": {},
   "outputs": [
    {
     "name": "stdout",
     "output_type": "stream",
     "text": [
      "region\n",
      "1    14.55\n",
      "2    12.42\n",
      "3    12.25\n",
      "4    10.33\n",
      "5    13.91\n",
      "6    12.41\n",
      "Name: colesterol_alto, dtype: float64\n"
     ]
    }
   ],
   "source": [
    "#dado que las sumas totales por región son dispares calcularemos el porcentaje de personas concolesterol alto para poder comparar\n",
    "\n",
    "\n",
    "colesterol_si_prom = (suma_colesterol_si * 100)/(suma_colesterol_si + suma_colesterol_no)  #calculo porcentaje de alto sobre el total \n",
    "\n",
    "colesterol_si_prom = colesterol_si_prom.round(2)   #limito a 2 decimales la salida\n",
    "\n",
    "print(colesterol_si_prom)\n",
    "\n"
   ]
  },
  {
   "cell_type": "code",
   "execution_count": 67,
   "id": "3a90f86e-d828-4754-bd38-622912ad07cd",
   "metadata": {},
   "outputs": [
    {
     "name": "stdout",
     "output_type": "stream",
     "text": [
      "   region  Porcentaje_colesterol_alto\n",
      "0       1                       14.55\n",
      "1       2                       12.42\n",
      "2       3                       12.25\n",
      "3       4                       10.33\n",
      "4       5                       13.91\n",
      "5       6                       12.41\n"
     ]
    }
   ],
   "source": [
    "dfc = colesterol_si_prom.reset_index()\n",
    "\n",
    "dfc.columns = ['region', 'Porcentaje_colesterol_alto']\n",
    "\n",
    "print(dfc)"
   ]
  },
  {
   "cell_type": "code",
   "execution_count": null,
   "id": "54070e05-d8fc-4264-8dd0-991135ad8478",
   "metadata": {},
   "outputs": [],
   "source": []
  },
  {
   "cell_type": "markdown",
   "id": "3334c3df-60e6-45ea-950f-e5ea567f1e43",
   "metadata": {},
   "source": [
    "## HIPERTENSIÓN EN FUNCIÓN DE REGIÓN"
   ]
  },
  {
   "cell_type": "code",
   "execution_count": 68,
   "id": "73e38b5f-f123-4266-9079-2396d398e81f",
   "metadata": {},
   "outputs": [
    {
     "name": "stdout",
     "output_type": "stream",
     "text": [
      "region\n",
      "1     412\n",
      "2    1147\n",
      "3     619\n",
      "4     626\n",
      "5     323\n",
      "6     551\n",
      "Name: veces_presion_alta, dtype: int64\n",
      "region\n",
      "1    1568\n",
      "2    4650\n",
      "3    2202\n",
      "4    2106\n",
      "5    1312\n",
      "6    1672\n",
      "Name: veces_presion_alta, dtype: int64\n",
      "region\n",
      "1     7026\n",
      "2    17457\n",
      "3    11112\n",
      "4     7575\n",
      "5     4734\n",
      "6     7833\n",
      "Name: veces_presion_alta, dtype: int64\n"
     ]
    }
   ],
   "source": [
    "\n",
    "hipertension_si = df[(df['veces_presion_alta'] == 1)]  #filtro solo valores 1 y 2 que corresponde a hipertesnion 1 vez y 2 es hipertension + de 1 vez\n",
    "\n",
    "hipertension_si_2 = df[df['veces_presion_alta']==2]   #filtro solo valores 2 que corresponde a hipertension + de 1 vez\n",
    "\n",
    "hipertension_no = df[df['veces_presion_alta']==3]    #filtro solo valores 3 que corresponde no presion alta\n",
    "\n",
    "suma_hipertension_si = hipertension_si.groupby('region')['veces_presion_alta'].sum()     #sumo total\n",
    "\n",
    "suma_hipertension_si_2 = hipertension_si_2.groupby('region')['veces_presion_alta'].sum()     #sumo total\n",
    "\n",
    "suma_hipertension_no = hipertension_no.groupby('region')['veces_presion_alta'].sum()     #sumo total\n",
    "\n",
    "print(suma_hipertension_si)\n",
    "print(suma_hipertension_si_2)\n",
    "print(suma_hipertension_no)"
   ]
  },
  {
   "cell_type": "code",
   "execution_count": 69,
   "id": "03fb419e-9619-40fe-9744-65e50e9c2b2a",
   "metadata": {},
   "outputs": [
    {
     "name": "stdout",
     "output_type": "stream",
     "text": [
      "region\n",
      "1    21.99\n",
      "2    24.93\n",
      "3    20.25\n",
      "4    26.51\n",
      "5    25.67\n",
      "6    22.11\n",
      "Name: veces_presion_alta, dtype: float64\n"
     ]
    }
   ],
   "source": [
    "#promedios\n",
    "\n",
    "hipertension_si_prom = ((suma_hipertension_si + suma_hipertension_si_2) * 100)/(suma_hipertension_si + suma_hipertension_si_2 + suma_hipertension_no)  #calculo porcentaje de alto sobre el total \n",
    "\n",
    "hipertension_si_prom = hipertension_si_prom.round(2)   #limito a 2 decimales la salida\n",
    "\n",
    "print(hipertension_si_prom)"
   ]
  },
  {
   "cell_type": "code",
   "execution_count": 70,
   "id": "c14ff5a6-e178-4e12-8c71-5f99cabe0489",
   "metadata": {},
   "outputs": [
    {
     "name": "stdout",
     "output_type": "stream",
     "text": [
      "   region  Porcentaje_hipertension\n",
      "0       1                    21.99\n",
      "1       2                    24.93\n",
      "2       3                    20.25\n",
      "3       4                    26.51\n",
      "4       5                    25.67\n",
      "5       6                    22.11\n"
     ]
    }
   ],
   "source": [
    "dfh = hipertension_si_prom.reset_index()\n",
    "\n",
    "dfh.columns = ['region', 'Porcentaje_hipertension']\n",
    "\n",
    "print(dfh)"
   ]
  },
  {
   "cell_type": "code",
   "execution_count": null,
   "id": "35340042-3410-4a1f-bc81-49884aed1a06",
   "metadata": {},
   "outputs": [],
   "source": []
  },
  {
   "cell_type": "markdown",
   "id": "a8dd1515-a0be-45e0-bafa-2afd06fad9c4",
   "metadata": {},
   "source": [
    "## DIABETES EN FUNCIÓN DE REGIÓN"
   ]
  },
  {
   "cell_type": "code",
   "execution_count": 71,
   "id": "ad5d9d86-2ea2-4b20-8bf2-fbd737ebbfaa",
   "metadata": {},
   "outputs": [
    {
     "name": "stdout",
     "output_type": "stream",
     "text": [
      "region\n",
      "1     441\n",
      "2    1309\n",
      "3     689\n",
      "4     515\n",
      "5     382\n",
      "6     588\n",
      "Name: dijeron_diabetes, dtype: int64\n",
      "region\n",
      "1     6224\n",
      "2    16014\n",
      "3     9500\n",
      "4     7414\n",
      "5     4374\n",
      "6     6804\n",
      "Name: dijeron_diabetes, dtype: int64\n"
     ]
    }
   ],
   "source": [
    "\n",
    "diabetes_si = df[df['dijeron_diabetes']==1]   #filtro solo valores 1 que corresponde a diabetes\n",
    "diabetes_no = df[df['dijeron_diabetes']==2]    #filtro solo valores 2 que corresponde a no diabetes\n",
    "\n",
    "suma_diabetes_si = diabetes_si.groupby('region')['dijeron_diabetes'].sum()     #sumo total\n",
    "\n",
    "suma_diabetes_no = diabetes_no.groupby('region')['dijeron_diabetes'].sum()     #sumo total\n",
    "\n",
    "print(suma_diabetes_si)\n",
    "print(suma_diabetes_no)"
   ]
  },
  {
   "cell_type": "code",
   "execution_count": 72,
   "id": "3bd41265-2465-419b-8507-30a3a42cbb71",
   "metadata": {},
   "outputs": [
    {
     "name": "stdout",
     "output_type": "stream",
     "text": [
      "region\n",
      "1    6.62\n",
      "2    7.56\n",
      "3    6.76\n",
      "4    6.50\n",
      "5    8.03\n",
      "6    7.95\n",
      "Name: dijeron_diabetes, dtype: float64\n"
     ]
    }
   ],
   "source": [
    "#promedios\n",
    "\n",
    "\n",
    "diabetes_si_prom = (suma_diabetes_si * 100)/(suma_diabetes_si + suma_diabetes_no)  #calculo porcentaje de alto sobre el total \n",
    "\n",
    "diabetes_si_prom = diabetes_si_prom.round(2)   #limito a 2 decimales la salida\n",
    "\n",
    "print(diabetes_si_prom)\n"
   ]
  },
  {
   "cell_type": "code",
   "execution_count": 73,
   "id": "6592693f-4a8d-494f-afbb-ffcda26297a3",
   "metadata": {},
   "outputs": [
    {
     "name": "stdout",
     "output_type": "stream",
     "text": [
      "   region  Porcentaje_diabetes\n",
      "0       1                 6.62\n",
      "1       2                 7.56\n",
      "2       3                 6.76\n",
      "3       4                 6.50\n",
      "4       5                 8.03\n",
      "5       6                 7.95\n"
     ]
    }
   ],
   "source": [
    "dfd = diabetes_si_prom.reset_index()\n",
    "\n",
    "dfd.columns = ['region', 'Porcentaje_diabetes']\n",
    "\n",
    "print(dfd)"
   ]
  },
  {
   "cell_type": "code",
   "execution_count": null,
   "id": "c4b96bc8-ab0f-48be-a9b6-50783f3a2316",
   "metadata": {},
   "outputs": [],
   "source": []
  },
  {
   "cell_type": "markdown",
   "id": "934e5838-1283-4476-b18e-a53855bec0e0",
   "metadata": {},
   "source": [
    "## UNIMOS COLUMNAS"
   ]
  },
  {
   "cell_type": "code",
   "execution_count": 74,
   "id": "4aa7b55e-623b-42a7-839a-acb8e44cfa86",
   "metadata": {},
   "outputs": [
    {
     "data": {
      "text/html": [
       "<div>\n",
       "<style scoped>\n",
       "    .dataframe tbody tr th:only-of-type {\n",
       "        vertical-align: middle;\n",
       "    }\n",
       "\n",
       "    .dataframe tbody tr th {\n",
       "        vertical-align: top;\n",
       "    }\n",
       "\n",
       "    .dataframe thead th {\n",
       "        text-align: right;\n",
       "    }\n",
       "</style>\n",
       "<table border=\"1\" class=\"dataframe\">\n",
       "  <thead>\n",
       "    <tr style=\"text-align: right;\">\n",
       "      <th></th>\n",
       "      <th>region</th>\n",
       "      <th>Porcentaje_colesterol_alto</th>\n",
       "      <th>Porcentaje_hipertension</th>\n",
       "      <th>Porcentaje_diabetes</th>\n",
       "    </tr>\n",
       "  </thead>\n",
       "  <tbody>\n",
       "    <tr>\n",
       "      <th>0</th>\n",
       "      <td>1</td>\n",
       "      <td>14.55</td>\n",
       "      <td>21.99</td>\n",
       "      <td>6.62</td>\n",
       "    </tr>\n",
       "    <tr>\n",
       "      <th>1</th>\n",
       "      <td>2</td>\n",
       "      <td>12.42</td>\n",
       "      <td>24.93</td>\n",
       "      <td>7.56</td>\n",
       "    </tr>\n",
       "    <tr>\n",
       "      <th>2</th>\n",
       "      <td>3</td>\n",
       "      <td>12.25</td>\n",
       "      <td>20.25</td>\n",
       "      <td>6.76</td>\n",
       "    </tr>\n",
       "    <tr>\n",
       "      <th>3</th>\n",
       "      <td>4</td>\n",
       "      <td>10.33</td>\n",
       "      <td>26.51</td>\n",
       "      <td>6.50</td>\n",
       "    </tr>\n",
       "    <tr>\n",
       "      <th>4</th>\n",
       "      <td>5</td>\n",
       "      <td>13.91</td>\n",
       "      <td>25.67</td>\n",
       "      <td>8.03</td>\n",
       "    </tr>\n",
       "    <tr>\n",
       "      <th>5</th>\n",
       "      <td>6</td>\n",
       "      <td>12.41</td>\n",
       "      <td>22.11</td>\n",
       "      <td>7.95</td>\n",
       "    </tr>\n",
       "  </tbody>\n",
       "</table>\n",
       "</div>"
      ],
      "text/plain": [
       "   region  Porcentaje_colesterol_alto  Porcentaje_hipertension  \\\n",
       "0       1                       14.55                    21.99   \n",
       "1       2                       12.42                    24.93   \n",
       "2       3                       12.25                    20.25   \n",
       "3       4                       10.33                    26.51   \n",
       "4       5                       13.91                    25.67   \n",
       "5       6                       12.41                    22.11   \n",
       "\n",
       "   Porcentaje_diabetes  \n",
       "0                 6.62  \n",
       "1                 7.56  \n",
       "2                 6.76  \n",
       "3                 6.50  \n",
       "4                 8.03  \n",
       "5                 7.95  "
      ]
     },
     "execution_count": 74,
     "metadata": {},
     "output_type": "execute_result"
    }
   ],
   "source": [
    "df2 = dfc.merge(dfh, on= 'region', how='outer' ).merge(dfd, on= 'region', how='outer')  \n",
    "df2"
   ]
  },
  {
   "cell_type": "code",
   "execution_count": 75,
   "id": "0709240e-ad98-40d0-b143-06a803520767",
   "metadata": {},
   "outputs": [
    {
     "name": "stdout",
     "output_type": "stream",
     "text": [
      "          region  Porcentaje_colesterol_alto  Porcentaje_hipertension  \\\n",
      "0  Metropolitana                       14.55                    21.99   \n",
      "1       Pampeana                       12.42                    24.93   \n",
      "2       Noroeste                       12.25                    20.25   \n",
      "3        Noreste                       10.33                    26.51   \n",
      "4           Cuyo                       13.91                    25.67   \n",
      "5     Patagónica                       12.41                    22.11   \n",
      "\n",
      "   Porcentaje_diabetes  \n",
      "0                 6.62  \n",
      "1                 7.56  \n",
      "2                 6.76  \n",
      "3                 6.50  \n",
      "4                 8.03  \n",
      "5                 7.95  \n"
     ]
    }
   ],
   "source": [
    "#nombramos la regiones \n",
    "\n",
    "region_dict = {\n",
    "    1: 'Metropolitana',\n",
    "    2: 'Pampeana',\n",
    "    3: 'Noroeste',\n",
    "    4: 'Noreste',\n",
    "    5: 'Cuyo',\n",
    "    6: 'Patagónica'\n",
    "}\n",
    "df2['region'] = df2['region'].map(region_dict)\n",
    "\n",
    "print(df2)"
   ]
  },
  {
   "cell_type": "markdown",
   "id": "76cff45a-12e6-41c2-87cc-05cd152a134d",
   "metadata": {},
   "source": [
    "\n",
    "###  <u> PORCENTAJE DE PERSONAS CON COLESTEROL ALTO, HIPERTENSIÓN Y DIABETES POR REGIÓN </u> \n",
    " \n"
   ]
  },
  {
   "cell_type": "code",
   "execution_count": 87,
   "id": "bcd2448e-6b91-4c7c-8bab-dd70d0cbc2f6",
   "metadata": {},
   "outputs": [
    {
     "data": {
      "image/png": "[encoded data removed]",
      "text/plain": [
       "<Figure size 1000x1800 with 3 Axes>"
      ]
     },
     "metadata": {},
     "output_type": "display_data"
    }
   ],
   "source": [
    "\n",
    "plt.figure(figsize=(10, 18))\n",
    "\n",
    "# Gráfico 1: Comparación de colesterol alto por región\n",
    "plt.subplot(3, 1, 1)\n",
    "sns.barplot(data=df2, x='region', y='Porcentaje_colesterol_alto', palette='pastel')\n",
    "plt.title('Porcentaje de colesterol alto por región')\n",
    "plt.xlabel('Región')\n",
    "plt.ylabel('Porcentaje colesterol alto [%]')\n",
    "\n",
    "\n",
    "ax = plt.gca()\n",
    "for bar in ax.patches:\n",
    "    yval = bar.get_height()  # Altura de la barra\n",
    "    xval = bar.get_x() + bar.get_width() / 2  # Posición central de la barra en el eje X\n",
    "    ax.text(xval, yval, round(yval, 2), va='bottom', ha='center', fontsize=10)  # Mostrar el valor encima de la barra\n",
    "\n",
    "\n",
    "# Gráfico 2: Comparación de hipertensión por región\n",
    "plt.subplot(3, 1, 2)\n",
    "sns.barplot(data=df2, x='region', y='Porcentaje_hipertension', palette='deep')\n",
    "plt.title('Porcentaje de hipertensión por región')\n",
    "plt.xlabel('Región')\n",
    "plt.ylabel('Porcentaje hipertensión [%]')\n",
    "\n",
    "\n",
    "ax = plt.gca()\n",
    "for bar in ax.patches:\n",
    "    yval = bar.get_height()  # Altura de la barra\n",
    "    xval = bar.get_x() + bar.get_width() / 2  # Posición central de la barra en el eje X\n",
    "    ax.text(xval, yval, round(yval, 2), va='bottom', ha='center', fontsize=10)  # Mostrar el valor encima de la barra\n",
    "\n",
    "\n",
    "# Gráfico 3: Comparación de diabetes por región\n",
    "plt.subplot(3, 1, 3)\n",
    "sns.barplot(data=df2, x='region', y='Porcentaje_diabetes', palette='dark')\n",
    "plt.title('Porcentaje de diabetes por región')\n",
    "plt.xlabel('Región')\n",
    "plt.ylabel('Porcentaje diabetes [%]')\n",
    "\n",
    "\n",
    "ax = plt.gca()\n",
    "for bar in ax.patches:\n",
    "    yval = bar.get_height()  # Altura de la barra\n",
    "    xval = bar.get_x() + bar.get_width() / 2  # Posición central de la barra en el eje X\n",
    "    ax.text(xval, yval, round(yval, 2), va='bottom', ha='center', fontsize=10)  # Mostrar el valor encima de la barra\n",
    "\n",
    "\n",
    "#plt.tight_layout()  # Ajustar espaciado entre los subplots\n",
    "plt.show()"
   ]
  },
  {
   "cell_type": "markdown",
   "id": "e71a1b61-73d3-4e3d-adb3-50d8cb1cb041",
   "metadata": {},
   "source": [
    "## Conclusión de los gráficos\n"
   ]
  },
  {
   "cell_type": "code",
   "execution_count": null,
   "id": "4457ef67-1935-4738-a77f-5f9c2b001a1a",
   "metadata": {},
   "outputs": [],
   "source": []
  },
  {
   "cell_type": "code",
   "execution_count": null,
   "id": "f510288d-8416-4177-ba6a-01af1cd5557f",
   "metadata": {},
   "outputs": [],
   "source": []
  },
  {
   "cell_type": "code",
   "execution_count": null,
   "id": "eaf19aea-6ea9-4db5-b3fa-af7a2f58194d",
   "metadata": {},
   "outputs": [],
   "source": [
    "\n"
   ]
  },
  {
   "cell_type": "code",
   "execution_count": null,
   "id": "3742652c-d347-4405-867c-042bbeafc123",
   "metadata": {},
   "outputs": [],
   "source": []
  },
  {
   "cell_type": "code",
   "execution_count": null,
   "id": "abb537f7-99a1-4f94-b9b1-c9ceb7e3a00e",
   "metadata": {},
   "outputs": [],
   "source": [
    "\n"
   ]
  },
  {
   "cell_type": "code",
   "execution_count": null,
   "id": "87204f0f-5a11-4f1f-b093-ab071536979d",
   "metadata": {},
   "outputs": [],
   "source": [
    "\n"
   ]
  },
  {
   "cell_type": "code",
   "execution_count": null,
   "id": "78215fc8-21a4-4bca-9e19-b75cbee04f3e",
   "metadata": {},
   "outputs": [],
   "source": []
  },
  {
   "cell_type": "code",
   "execution_count": 76,
   "id": "c901b116-3892-45f1-9669-abb335163308",
   "metadata": {},
   "outputs": [
    {
     "data": {
      "image/png": "[encoded data removed]",
      "text/plain": [
       "<Figure size 1400x800 with 1 Axes>"
      ]
     },
     "metadata": {},
     "output_type": "display_data"
    }
   ],
   "source": [
    "plt.figure(figsize=(14, 8))\n",
    "sns.barplot(data=dfc,  x='region', y='Porcentaje_colesterol_alto',  palette='deep')\n",
    "\n",
    "plt.title('Porcentaje de colesterol alto por región')\n",
    "plt.xlabel('Región')\n",
    "plt.ylabel('Porcentaje colesterol alto [%]')\n",
    "#plt.legend(title='Hipertensión', loc='upper right')\n",
    "\n",
    "# Mostrar los valores de las barras\n",
    "ax = plt.gca()\n",
    "for bar in ax.patches:\n",
    "    yval = bar.get_height()  # Altura de la barra\n",
    "    xval = bar.get_x() + bar.get_width() / 2  # Posición central de la barra en el eje X\n",
    "    ax.text(xval, yval, round(yval, 2), va='bottom', ha='center', fontsize=10)  # Mostrar el valor encima de la barra\n",
    "\n",
    "    \n",
    "plt.show()"
   ]
  }
 ],
 "metadata": {
  "kernelspec": {
   "display_name": "Python 3",
   "language": "python",
   "name": "python3"
  },
  "language_info": {
   "codemirror_mode": {
    "name": "ipython",
    "version": 3
   },
   "file_extension": ".py",
   "mimetype": "text/x-python",
   "name": "python",
   "nbconvert_exporter": "python",
   "pygments_lexer": "ipython3",
   "version": "3.8.8"
  }
 },
 "nbformat": 4,
 "nbformat_minor": 5
}
