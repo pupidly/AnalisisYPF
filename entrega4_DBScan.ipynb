{
 "cells": [
  {
   "cell_type": "code",
   "execution_count": 24,
   "id": "e697cd8c-6ca4-4bbd-90bd-29bb7a933340",
   "metadata": {},
   "outputs": [],
   "source": [
    "#importamos librerías\n",
    "\n",
    "import pandas as pd\n",
    "import numpy as np\n",
    "import sklearn\n",
    "import matplotlib.pyplot as plt\n",
    "import seaborn as sns\n",
    "\n",
    "from sklearn.cluster import DBSCAN"
   ]
  },
  {
   "cell_type": "code",
   "execution_count": 25,
   "id": "4981f600-e845-4735-a195-5871b6afa3fe",
   "metadata": {},
   "outputs": [],
   "source": [
    "# IMPORTACIÓN DEL DATASET REDUCIDO LUEGO DEL PROCESAMIENTO DE COLUMNAS\n",
    "\n",
    "df = pd.read_csv('friesgo_2018_reduc.csv',  sep=',', encoding='utf-8')"
   ]
  },
  {
   "cell_type": "code",
   "execution_count": 26,
   "id": "f5dbcc3e-cf58-414f-a4a9-ff82fc5ab44f",
   "metadata": {},
   "outputs": [],
   "source": [
    "#muevo columnas de variables dependiendtes (enfermedades) al final\n",
    "\n",
    "columnas_alFinal = [ 'dijeron_diabetes','veces_presion_alta', 'colesterol_alto']\n",
    "\n",
    "df = df[[col for col in df if col not in columnas_alFinal] + columnas_alFinal]\n",
    "\n",
    "#print (df.iloc[:,-3:]) "
   ]
  },
  {
   "cell_type": "code",
   "execution_count": 27,
   "id": "ba4daf6c-3820-434e-bb1f-cce0711d278f",
   "metadata": {},
   "outputs": [],
   "source": [
    "#conjunto de datos sin las 3 columnas target y sin ID\n",
    "\n",
    "X = df.iloc[:, 1:-3]  # Todas las columnas menos las últimas tres y la primera (id)"
   ]
  },
  {
   "cell_type": "code",
   "execution_count": 31,
   "id": "75d552db-bdba-4749-8a54-cfdb1701c5fd",
   "metadata": {},
   "outputs": [
    {
     "name": "stdout",
     "output_type": "stream",
     "text": [
      "# Clusters estimados: 1\n",
      "# Puntos ruidosos: 25637\n"
     ]
    }
   ],
   "source": [
    "# Aplicar DBSCAN\n",
    "dbscan = DBSCAN(eps=1.0, min_samples=13).fit(X)  # Ajusta 'eps' y 'min_samples' según sea necesario\n",
    "\n",
    "labels = dbscan.fit_predict(X)\n",
    "\n",
    "labels = dbscan.labels_  # Etiquetas asignadas a cada punto\n",
    "no_clusters = len(np.unique(labels))  # Número de clusters encontrados (excluyendo ruido)\n",
    "no_noise = np.sum(np.array(labels) == -1)  # Número de puntos clasificados como ruido (outliers)\n",
    "print('# Clusters estimados: %d' % no_clusters)  # Muestra el número de clusters estimado\n",
    "print('# Puntos ruidosos: %d' % no_noise)  # Muestra el número de ruido"
   ]
  },
  {
   "cell_type": "code",
   "execution_count": 19,
   "id": "0f2ed105-d7c8-4060-8b61-50c0600faf81",
   "metadata": {},
   "outputs": [],
   "source": [
    "# Agregar los labels (clusters) generados al DataFrame original\n",
    "df['Cluster'] = labels"
   ]
  },
  {
   "cell_type": "code",
   "execution_count": 20,
   "id": "44530ef8-0a0e-421f-973f-bd68a40105db",
   "metadata": {},
   "outputs": [],
   "source": [
    "# Crear un DataFrame con la distribución de regiones en cada cluster\n",
    "cluster_region_distribution = pd.crosstab(df['Cluster'], df['region'])"
   ]
  },
  {
   "cell_type": "code",
   "execution_count": 21,
   "id": "7ac77856-11b7-45f5-8d82-e7fad12632f0",
   "metadata": {},
   "outputs": [],
   "source": [
    "region_dict = {\n",
    "    1: 'Metropolitana',\n",
    "    2: 'Pampeana',\n",
    "    3: 'Noroeste',\n",
    "    4: 'Noreste',\n",
    "    5: 'Cuyo',\n",
    "    6: 'Patagónica'\n",
    "}\n",
    "\n"
   ]
  },
  {
   "cell_type": "code",
   "execution_count": 22,
   "id": "93b91cbc-238e-4971-8600-a208219a0a96",
   "metadata": {},
   "outputs": [],
   "source": [
    "# Renombrar las regiones usando el diccionario\n",
    "cluster_region_distribution = cluster_region_distribution.rename(columns=region_dict)\n"
   ]
  },
  {
   "cell_type": "code",
   "execution_count": 23,
   "id": "ea2677ee-a53f-4556-9416-3bc8dfcd669d",
   "metadata": {},
   "outputs": [
    {
     "name": "stdout",
     "output_type": "stream",
     "text": [
      "region   Metropolitana  Pampeana  Noroeste  Noreste  Cuyo  Patagónica\n",
      "Cluster                                                              \n",
      "-1                   0         3         0        1     2           1\n",
      " 0                3188      8192      4615     3468  2329        3534\n",
      " 1                   6         7         3        2     1          11\n",
      " 2                   5        12         0        4     6          11\n",
      " 3                  26        45        12       20     9          14\n",
      " 4                   6        14        21       21     2          13\n",
      " 5                   6        11         6        3     4           3\n"
     ]
    }
   ],
   "source": [
    "print(cluster_region_distribution)\n"
   ]
  },
  {
   "cell_type": "code",
   "execution_count": null,
   "id": "4f59df34-ae3f-4633-80ef-310c9a2944f6",
   "metadata": {},
   "outputs": [],
   "source": []
  },
  {
   "cell_type": "code",
   "execution_count": null,
   "id": "ddf70c22-48e2-446b-8184-3859e2663fcf",
   "metadata": {},
   "outputs": [],
   "source": []
  },
  {
   "cell_type": "code",
   "execution_count": null,
   "id": "e5accaf1-f247-4ace-851c-b98559a6ce1d",
   "metadata": {},
   "outputs": [],
   "source": [
    "wcss = []\n",
    "for i in range(1, 11):\n",
    "    km = KMeans(n_clusters=i, init='k-means++', max_iter=300, n_init=10, random_state=0)\n",
    "    km.fit(X1)\n",
    "    wcss.append(km.inertia_)\n",
    "plt.plot(range(1, 11), wcss, c=\"#c51b7d\")\n",
    "plt.gca().spines[\"top\"].set_visible(False)\n",
    "plt.gca().spines[\"right\"].set_visible(False)\n",
    "plt.title('Metodo Elbow', size=14)\n",
    "plt.xlabel('Numero de Clusters', size=12)\n",
    "plt.ylabel('wcss', size=14)\n",
    "plt.show()"
   ]
  },
  {
   "cell_type": "code",
   "execution_count": null,
   "id": "d72c3e88-6bb4-4099-a1d3-a5009647eb82",
   "metadata": {},
   "outputs": [],
   "source": []
  },
  {
   "cell_type": "code",
   "execution_count": null,
   "id": "103696b1-2a3d-4225-9f87-b9efe2aee7c4",
   "metadata": {},
   "outputs": [],
   "source": []
  },
  {
   "cell_type": "code",
   "execution_count": null,
   "id": "167e66a4-076d-45a2-a752-5e10259b09dc",
   "metadata": {},
   "outputs": [],
   "source": []
  },
  {
   "cell_type": "code",
   "execution_count": null,
   "id": "2a47f29b-7668-4e98-8e95-00692a0b0b70",
   "metadata": {},
   "outputs": [],
   "source": []
  }
 ],
 "metadata": {
  "kernelspec": {
   "display_name": "Python 3",
   "language": "python",
   "name": "python3"
  },
  "language_info": {
   "codemirror_mode": {
    "name": "ipython",
    "version": 3
   },
   "file_extension": ".py",
   "mimetype": "text/x-python",
   "name": "python",
   "nbconvert_exporter": "python",
   "pygments_lexer": "ipython3",
   "version": "3.8.8"
  }
 },
 "nbformat": 4,
 "nbformat_minor": 5
}
